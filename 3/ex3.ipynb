{
 "cells": [
  {
   "cell_type": "markdown",
   "metadata": {},
   "source": [
    "# 練習問題\n",
    "\n",
    "[![Open In Colab](https://colab.research.google.com/assets/colab-badge.svg)](https://colab.research.google.com/github/kyorin-phys/MLIntro2025/blob/main/3/ex3.ipynb)"
   ]
  },
  {
   "cell_type": "markdown",
   "metadata": {},
   "source": [
    "## 練習問題1\n",
    "LinearRegression を使って、sepal_length, sepal_width の回帰直線を求めよ (種毎に傾きが違うので全体の回帰直線にあまり意味がなさそう)"
   ]
  },
  {
   "cell_type": "code",
   "execution_count": null,
   "metadata": {},
   "outputs": [],
   "source": [
    "import seaborn as sns\n",
    "\n",
    "iris = sns.load_dataset('iris')\n",
    "# sns.lmplot(data=iris, x='sepal_length', y='sepal_width', hue='species') # これでグループごとに回帰直線を書いてくれるが、式は出せない\n",
    "iris.head()"
   ]
  },
  {
   "cell_type": "markdown",
   "metadata": {},
   "source": [
    "## 練習問題2\n",
    "\n",
    "データセット penguins を読み込んでアヤメの例と同様なグラフを描いてみよ\n",
    "\n",
    "<img src=\"https://allisonhorst.github.io/palmerpenguins/reference/figures/lter_penguins.png\" width='30%'>"
   ]
  },
  {
   "cell_type": "code",
   "execution_count": null,
   "metadata": {},
   "outputs": [],
   "source": [
    "import seaborn as sns \n",
    "penguins = sns.load_dataset('penguins')\n",
    "#penguins.to_csv('penguins.csv')\n",
    "#penguins.to_excel('penguins.xlsx')\n",
    "penguins\n",
    "# 欠損値(NaN:Not a Number)があるので注意が必要"
   ]
  },
  {
   "cell_type": "code",
   "execution_count": null,
   "metadata": {},
   "outputs": [],
   "source": [
    "# 各列で欠損値の個数を表示\n",
    "penguins.isnull().sum()"
   ]
  },
  {
   "cell_type": "code",
   "execution_count": null,
   "metadata": {},
   "outputs": [],
   "source": [
    "# NaN など欠損値を含む行を消す\n",
    "penguins = penguins.dropna()\n",
    "penguins"
   ]
  },
  {
   "cell_type": "code",
   "execution_count": null,
   "metadata": {},
   "outputs": [],
   "source": [
    "# bill_length, bill_depth で散布図を描く(speciesで層別化)\n",
    "#sns.relplot(data=penguins, x='bill_length_mm', y='bill_depth_mm', hue='species')"
   ]
  },
  {
   "cell_type": "code",
   "execution_count": null,
   "metadata": {},
   "outputs": [],
   "source": [
    "# 散布図行列\n",
    "#sns.pairplot(penguins, hue='species', corner=True)"
   ]
  },
  {
   "cell_type": "code",
   "execution_count": null,
   "metadata": {},
   "outputs": [],
   "source": [
    "# 相関行列\n",
    "#corr = penguins.corr(numeric_only=True)\n",
    "#corr"
   ]
  },
  {
   "cell_type": "code",
   "execution_count": null,
   "metadata": {},
   "outputs": [],
   "source": [
    "# 相関行列のヒートマップ\n",
    "#sns.heatmap(corr, cmap='coolwarm', annot=True)"
   ]
  },
  {
   "cell_type": "markdown",
   "metadata": {},
   "source": [
    "## 練習問題3\n",
    "\n",
    "ペンギンの散布図行列、相関行列から相関が最も高い特徴量2つを選んで、\n",
    "線形回帰を行い、2つの特徴量の散布図と回帰直線のグラフを作れ。"
   ]
  },
  {
   "cell_type": "code",
   "execution_count": null,
   "metadata": {},
   "outputs": [],
   "source": [
    "# データはpenguinsに読み込み済み。必要なライブラリ関数をインポートする\n",
    "import matplotlib.pyplot as plt\n",
    "from sklearn.linear_model import LinearRegression\n",
    "from sklearn.model_selection import train_test_split\n",
    "from sklearn.metrics import r2_score, root_mean_squared_error"
   ]
  },
  {
   "cell_type": "code",
   "execution_count": null,
   "metadata": {},
   "outputs": [],
   "source": [
    "# X, yに2つの特徴量を取り出し、訓練データと検証データに分割(train_test_split)\n",
    "# flipper_length_mm, body_mass_g の場合\n",
    "#X = penguins[['flipper_length_mm']]\n",
    "#y = penguins['body_mass_g']\n",
    "#X_train, X_test, y_train, y_test = train_test_split(X, y, test_size=0.3, random_state=0) \n",
    "#len(X_train), len(X_test), len(X)*0.3 "
   ]
  },
  {
   "cell_type": "code",
   "execution_count": null,
   "metadata": {},
   "outputs": [],
   "source": [
    "# 線形回帰モデルLinearRegression()を作成し、訓練fit()、予測値を求めるpredict()\n",
    "#model = LinearRegression()\n",
    "#model.fit(X_train, y_train)\n",
    "#y_pred = model.predict(X_test)\n",
    "\n",
    "#print(list(y_pred))\n",
    "#print(list(y_test))\n",
    "#print(model.coef_, model.intercept_)"
   ]
  },
  {
   "cell_type": "code",
   "execution_count": null,
   "metadata": {},
   "outputs": [],
   "source": [
    "# 予測値と目的値から評価　rmse,r2\n",
    "#rmse = root_mean_squared_error(y_test, y_pred)\n",
    "#r2 = r2_score(y_test, y_pred)\n",
    "#print(rmse, r2)"
   ]
  },
  {
   "cell_type": "code",
   "execution_count": null,
   "metadata": {},
   "outputs": [],
   "source": [
    "# 回帰直線と散布図を同時にプロット\n",
    "#a = model.coef_[0]\n",
    "#b = model.intercept_\n",
    "#yp = a * X_test + b\n",
    "\n",
    "#plt.scatter(X_test, y_test, color='blue',label='data')\n",
    "#plt.plot(X_test, y_pred, color='red', label='regression')\n",
    "#plt.plot(X_test, yp, label='regression2')\n",
    "#plt.xlabel('flipper length(mm)')\n",
    "#plt.ylabel('body mass(g)')\n",
    "#plt.title('linear regression')\n",
    "#plt.legend()\n",
    "#plt.show()"
   ]
  },
  {
   "cell_type": "markdown",
   "metadata": {},
   "source": [
    "## 練習問題4\n",
    "アヤメデータを使って、3つの種のうち、versicolorかどうかの2値分類をLogistic回帰で行ってみよ。"
   ]
  },
  {
   "cell_type": "code",
   "execution_count": null,
   "metadata": {},
   "outputs": [],
   "source": [
    "# 準備\n",
    "import pandas as pd\n",
    "import seaborn as sns\n",
    "import matplotlib.pyplot as plt\n",
    "from sklearn.datasets import load_iris\n",
    "from sklearn.linear_model import LogisticRegression # ロジスティック回帰\n",
    "from sklearn.model_selection import train_test_split\n",
    "from sklearn.metrics import accuracy_score # 2値分類なので平均二乗誤差を使わない\n",
    "\n",
    "# アヤメデータセットを読み込み\n",
    "iris = load_iris()\n",
    "X = iris.data\n",
    "y = iris.target\n",
    "# versicicolor なら1、その他は0 \n",
    "y_bin = (y==1).astype(int)\n",
    "y_bin"
   ]
  },
  {
   "cell_type": "code",
   "execution_count": null,
   "metadata": {},
   "outputs": [],
   "source": [
    "# 訓練データとテストデータに分割（順序をシャッフルし、乱数を固定するためにrandom_stateを指定）\n",
    "X_train, X_test, y_train, y_test = train_test_split(X, y_bin, test_size=0.2, random_state=0)\n",
    "\n",
    "# ロジスティック回帰モデルを作成\n",
    "model = LogisticRegression()\n",
    "\n",
    "# モデルを訓練\n",
    "model.fit(X_train, y_train)\n",
    "\n",
    "# テストデータで予測\n",
    "y_pred = model.predict(X_test)\n",
    "\n",
    "print('予測', list(y_pred))\n",
    "print('正解', list(y_test))\n",
    "\n",
    "print('正解率', accuracy_score(y_test, y_pred))"
   ]
  }
 ],
 "metadata": {
  "kernelspec": {
   "display_name": "base",
   "language": "python",
   "name": "python3"
  },
  "language_info": {
   "codemirror_mode": {
    "name": "ipython",
    "version": 3
   },
   "file_extension": ".py",
   "mimetype": "text/x-python",
   "name": "python",
   "nbconvert_exporter": "python",
   "pygments_lexer": "ipython3",
   "version": "3.12.3"
  }
 },
 "nbformat": 4,
 "nbformat_minor": 2
}
