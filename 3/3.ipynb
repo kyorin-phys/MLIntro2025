{
 "cells": [
  {
   "cell_type": "markdown",
   "metadata": {
    "slideshow": {
     "slide_type": "slide"
    }
   },
   "source": [
    "# 回帰(Regression)と分類(Classification)\n",
    "\n",
    "[![Open In Colab](https://colab.research.google.com/assets/colab-badge.svg)](https://colab.research.google.com/github/kyorin-phys/MLIntro/blob/main/3/3.ipynb)\n",
    "\n",
    "<img src=\"linear-vs-logistic.png\" width=\"75%\">\n",
    "\n",
    "\n",
    "image from [ML for Beginners](https://github.com/microsoft/ML-For-Beginners/tree/main/2-Regression/4-Logistic)\n",
    "\n",
    "* 目的関数の違い：　\n",
    "スケール変数とカテゴリー変数\n",
    "\n",
    "* 線形回帰：\n",
    "1変数、多変数\n",
    "\n",
    "* ロジスティック回帰(**回帰**という名前だが実際は**分類**が目的)：\n",
    "\n",
    "    * 二値（０か１か）： sigmoid関数\n",
    "\n",
    "    * 多クラス（3種類以上のどれに近いか）: softmax関数、one-hot表現  \n",
    "\n",
    "数値データなら深層学習でなくてもできる"
   ]
  },
  {
   "cell_type": "markdown",
   "metadata": {},
   "source": [
    "アヤメデータを使う\n",
    "\n",
    "* 特徴量：がく片、花びらの幅と長さ　４変数\n",
    "* 目的変数：花の種類\n",
    "\n",
    "<img src=\"https://miro.medium.com/max/1000/1*Hh53mOF4Xy4eORjLilKOwA.png\" width=\"50%\">"
   ]
  },
  {
   "cell_type": "markdown",
   "metadata": {},
   "source": [
    "## seaborn ライブラリ　\n",
    "統計用グラフが充実\n",
    "* [seaborn](https://seaborn.pydata.org/index.html)\n",
    "\n",
    "[グラフ一覧](https://seaborn.pydata.org/examples/index.html)\n",
    "\n",
    "[matplotlib & seaborn](https://www.amazon.co.jp/dp/4798055433) これだけで本になるくらいなので使いこなすのは大変だが、そのまま出版に使えるような品質の高いグラフが作れる。関数名で検索すれば、用例を解説したページが多数ある。"
   ]
  },
  {
   "cell_type": "code",
   "execution_count": null,
   "metadata": {},
   "outputs": [],
   "source": [
    "# アヤメデータ(前回はCSVファイルを使ったが、データセットがライブラリに用意されている)\n",
    "import seaborn as sns # なぜSNSと略すのかはアメリカのテレビ番組が由来なので説明されてもわからない\n",
    "# from sklearn.datasets import load_iris # sklearn からデータを読むこともできる\n",
    "print(sns.get_dataset_names()) # seabornに含まれるサンプルデータ\n",
    "iris = sns.load_dataset('iris')\n",
    "# このデータはpandasのDataFrame形式になっている\n",
    "iris.head() "
   ]
  },
  {
   "cell_type": "code",
   "execution_count": null,
   "metadata": {},
   "outputs": [],
   "source": [
    "# sepal_length, sepal_widthで散布図、hue で層別に色分け(済)\n",
    "sns.relplot(data=iris, x='petal_length',y='petal_width', hue='species')"
   ]
  },
  {
   "cell_type": "markdown",
   "metadata": {},
   "source": [
    "各特徴量のペア毎の散布図をまとめて描いたり、相関係数を視覚的に確認できる。"
   ]
  },
  {
   "cell_type": "code",
   "execution_count": null,
   "metadata": {},
   "outputs": [],
   "source": [
    "# 散布図行列　\n",
    "sns.pairplot(iris, hue='species', corner=True) # 対角線をまたいで対称なので下半分だけ表示"
   ]
  },
  {
   "cell_type": "code",
   "execution_count": null,
   "metadata": {},
   "outputs": [],
   "source": [
    "# 相関行列\n",
    "corr = iris.corr(numeric_only=True) #カテゴリー変数speciesを除く\n",
    "corr"
   ]
  },
  {
   "cell_type": "code",
   "execution_count": null,
   "metadata": {},
   "outputs": [],
   "source": [
    "# 相関行列のヒートマップ\n",
    "sns.heatmap(corr, cmap='coolwarm',annot=True)"
   ]
  },
  {
   "cell_type": "markdown",
   "metadata": {},
   "source": [
    "## [scikit-learn](https://scikit-learn.org/stable/index.html) (sklearn)\n",
    "\n",
    "データ分析に有用なライブラリ\n",
    "* LinearRegression: 線形回帰\n",
    "* LogisticRegression: ロジスティック回帰\n",
    "* train_test_split: 訓練用と検証用にデータを分割する\n",
    "\n",
    "supervised learning(教師あり学習): 特徴量と目的変数のセットが必要\n",
    "\n",
    "<img src='split.png' width='50%'>\n",
    "\n",
    "訓練データで回帰式を求め、検証データでどれくらい再現できているかを検証する\n",
    "\n",
    "* root_mean_squared_error, r2_score: \n",
    "結果の良し悪しを判断 (平均二乗平方根誤差、相関(決定係数))\n",
    "\n",
    "* 線形回帰、ロジスティック回帰、その他の方法が全て同じ構文で統一されている。\n",
    "```\n",
    "model = モデル名() # モデルを指定\n",
    "model.fit() # 学習\n",
    "model.predict() # 予測\n",
    "```\n"
   ]
  },
  {
   "cell_type": "code",
   "execution_count": null,
   "metadata": {},
   "outputs": [],
   "source": [
    "# 準備\n",
    "import pandas as pd\n",
    "import seaborn as sns\n",
    "import matplotlib.pyplot as plt\n",
    "from sklearn.linear_model import LinearRegression\n",
    "from sklearn.model_selection import train_test_split\n",
    "from sklearn.metrics import r2_score, root_mean_squared_error\n",
    "\n",
    "# アヤメデータセットを読み込み\n",
    "iris = sns.load_dataset('iris') #DataFrame形式で読み込み　\n",
    "iris.head()"
   ]
  },
  {
   "cell_type": "code",
   "execution_count": null,
   "metadata": {},
   "outputs": [],
   "source": [
    "# ファイルに書き出しできる\n",
    "#iris.to_csv('iris.csv', index=False) # 1列目にインデックスを追加しない\n",
    "#iris.to_excel('iris.xlsx', index=False)\n",
    "#df = pd.read_csv('iris.csv') # 読み込み\n",
    "#df = pd.read_excel('iris.xlsx')\n",
    "#df.head()"
   ]
  },
  {
   "cell_type": "code",
   "execution_count": null,
   "metadata": {},
   "outputs": [],
   "source": [
    "# setosa だけ抽出したいとき\n",
    "setosa = iris[iris['species']=='setosa']\n",
    "setosa.tail()"
   ]
  },
  {
   "cell_type": "code",
   "execution_count": null,
   "metadata": {},
   "outputs": [],
   "source": [
    "# がく片の幅と長さのデータを抽出\n",
    "# 単回帰\n",
    "X = iris[['petal_length']] # ベクトルではなく、行列形式\n",
    "y = iris['petal_width']    # ベクトル\n",
    "\n",
    "# 訓練データとテストデータに分割\n",
    "X_train, X_test, y_train, y_test = train_test_split(X, y, test_size=0.3, random_state=0)\n",
    "print(X_train.size, X_test.size, len(X)*0.3) # Xのサイズにtest_sizeを掛けた数が検証用データの個数\n",
    "\n",
    "# 線形回帰モデルを作成\n",
    "model = LinearRegression()\n",
    "\n",
    "# モデルを訓練\n",
    "model.fit(X_train, y_train)\n",
    "\n",
    "# テストデータで予測\n",
    "y_pred = model.predict(X_test)\n",
    "\n",
    "print(list(y_pred))\n",
    "print(list(y_test))\n",
    "\n",
    "print('傾き:',model.coef_[0], 'y切片', model.intercept_)"
   ]
  },
  {
   "cell_type": "code",
   "execution_count": null,
   "metadata": {},
   "outputs": [],
   "source": [
    "# モデルの評価\n",
    "rmse = root_mean_squared_error(y_test, y_pred)\n",
    "r2 = r2_score(y_test, y_pred)\n",
    "\n",
    "print(f'Root Mean Squared Error: {rmse}')\n",
    "print(f'R^2 Score: {r2}')\n",
    "\n",
    "# 回帰直線をプロット\n",
    "#plt.figure(figsize=(10, 6))\n",
    "plt.scatter(X_test, y_test, color='blue', label='Actual data')\n",
    "plt.plot(X_test, y_pred, color='red', linewidth=2, label='Regression line')\n",
    "plt.xlabel('Petal Length (cm)')\n",
    "plt.ylabel('Petal Width (cm)')\n",
    "plt.title('Linear Regression: Petal Length vs Petal Width')\n",
    "plt.legend()\n",
    "plt.show()"
   ]
  },
  {
   "cell_type": "markdown",
   "metadata": {},
   "source": [
    "## ロジスティック回帰\n",
    "\n",
    "* 目的変数が**2値**の分類（真偽）\n",
    "* **多クラス分類**（アヤメでどの種に属するか）\n",
    "各クラスの確率を求めて、最も高い確率のクラスに属すると予測\n",
    "\n",
    "`sklearn.model_selection.train_test_split` データを訓練用(train)、検証用(test)に分割する。\n",
    "\n",
    "ロジスティック回帰の性能評価（正しく予想できるかを定量的に判断する）\n",
    "\n",
    "`sklearn.metrics.accuracy_score` 正解率\n",
    "\n",
    "`sklearn.metrics.classification_report`　分類レポート"
   ]
  },
  {
   "cell_type": "markdown",
   "metadata": {},
   "source": [
    "### 2値の例\n",
    "アヤメの種がsetosaであるかどうかをロジスティック回帰で予測する"
   ]
  },
  {
   "cell_type": "code",
   "execution_count": null,
   "metadata": {},
   "outputs": [],
   "source": [
    "# 準備\n",
    "import pandas as pd\n",
    "import seaborn as sns\n",
    "import matplotlib.pyplot as plt\n",
    "from sklearn.datasets import load_iris\n",
    "from sklearn.linear_model import LogisticRegression # ロジスティック回帰\n",
    "from sklearn.model_selection import train_test_split\n",
    "from sklearn.metrics import accuracy_score # 2値分類なので平均二乗誤差を使わない\n",
    "\n",
    "# アヤメデータセットを読み込み\n",
    "iris = load_iris()\n",
    "X = iris.data\n",
    "y = iris.target\n",
    "y\n",
    "# y=0: setosa, y=1: versicolor, y=2: virginica\n",
    "# それぞれの種が50個ずつ"
   ]
  },
  {
   "cell_type": "code",
   "execution_count": null,
   "metadata": {},
   "outputs": [],
   "source": [
    "# setosa なら1、その他は0 \n",
    "y_bin = (y==0).astype(int) # bool型numpy配列をまとめてint型に変換\n",
    "y_bin"
   ]
  },
  {
   "cell_type": "code",
   "execution_count": null,
   "metadata": {},
   "outputs": [],
   "source": [
    "X.size, y_bin.size # Xは4変数x150件, yは150件"
   ]
  },
  {
   "cell_type": "code",
   "execution_count": null,
   "metadata": {},
   "outputs": [],
   "source": [
    "# setosa かどうかを2値分類する\n",
    "# 訓練データとテストデータに分割（順序をシャッフルし、乱数を固定するためにrandom_stateを指定）\n",
    "X_train, X_test, y_train, y_test = train_test_split(X, y_bin, test_size=0.2, random_state=0)\n",
    "\n",
    "# ロジスティック回帰モデルを作成\n",
    "model = LogisticRegression()\n",
    "\n",
    "# モデルを訓練\n",
    "model.fit(X_train, y_train)\n",
    "\n",
    "# テストデータで予測\n",
    "y_pred = model.predict(X_test)\n",
    "\n",
    "print('予測', list(y_pred))\n",
    "print('正解', list(y_test))\n",
    "\n",
    "print('正解率', accuracy_score(y_test, y_pred))"
   ]
  },
  {
   "cell_type": "code",
   "execution_count": null,
   "metadata": {},
   "outputs": [],
   "source": [
    "150*0.2, len(y_pred) # 150件のうち20%を検証用に使った"
   ]
  },
  {
   "cell_type": "markdown",
   "metadata": {},
   "source": [
    "`test_size`, `random_state`の値を変えると結果が変わるかどうか試してみよ。\n",
    "\n",
    "test_sizeを大きくすると学習データが減るので、正解率は下がるはずだが、setosaは孤立しているので、ほとんど変わらない。\n",
    "\n",
    "random_stateは乱数の出方を変えるだけなので、データの選択によって偶然変わることがあるが、本質的には変わらないはず。\n",
    "\n",
    "setosa以外の種について同様にやってみよ。"
   ]
  },
  {
   "cell_type": "markdown",
   "metadata": {},
   "source": [
    "## 多クラス分類\n",
    "アヤメがどの種に属するかを予測する"
   ]
  },
  {
   "cell_type": "code",
   "execution_count": null,
   "metadata": {},
   "outputs": [],
   "source": [
    "from sklearn.datasets import load_iris\n",
    "from sklearn.linear_model import LogisticRegression\n",
    "from sklearn.model_selection import train_test_split\n",
    "from sklearn.metrics import accuracy_score, classification_report,confusion_matrix,ConfusionMatrixDisplay\n",
    "from sklearn.multiclass import OneVsRestClassifier # 多クラス分類用\n",
    "\n",
    "# Irisデータセットをロード\n",
    "iris = load_iris()\n",
    "X = iris.data\n",
    "y = iris.target\n",
    "\n",
    "# データをトレーニングセットとテストセットに分割\n",
    "X_train, X_test, y_train, y_test = train_test_split(X, y, test_size=0.2, random_state=0)\n",
    "\n",
    "# OneVsRestClassifierを使用して多クラス分類のロジスティック回帰モデルを作成してトレーニング\n",
    "model = OneVsRestClassifier(LogisticRegression(max_iter=100))\n",
    "model.fit(X_train, y_train)\n",
    "\n",
    "# テストセットで予測を行う\n",
    "y_pred = model.predict(X_test)\n",
    "\n",
    "# モデルの精度を計算\n",
    "accuracy = accuracy_score(y_test, y_pred)\n",
    "report = classification_report(y_test, y_pred, target_names=iris.target_names)\n",
    "cm = confusion_matrix(y_test, y_pred)\n",
    "\n",
    "print(f\"アヤメの種類を予測するロジスティック回帰モデルの精度: {accuracy:.2f}\")\n",
    "print(\"分類レポート:\")\n",
    "print(report)\n",
    "\n",
    "print('混同行列')\n",
    "print(cm)\n",
    "\n",
    "# Plot the confusion matrix\n",
    "ConfusionMatrixDisplay.from_estimator(model, X_test, y_test, display_labels=iris.target_names)\n",
    "plt.title('Confusion Matrix')\n",
    "plt.show()"
   ]
  },
  {
   "cell_type": "markdown",
   "metadata": {},
   "source": [
    "### confusion matrix(混同行列)\n",
    "\n",
    "\n",
    "| 実際　\\　予測    | 陽性 | 陰性 |\n",
    "|----|----|----|\n",
    "|陽性 | TP   | FN   |\n",
    "|陰性　| FP | TN |\n",
    "\n",
    "* 正解率：全体の中で正しく分類できた割合\n",
    "  \n",
    "$$\\mathrm{accuracy = \\frac{TP+TN}{TP+TN+FP+FN}}$$\n",
    "\n",
    "* 適合率（精度）：陽性と予測された中で実際に陽性だった割合 (陽性的中率)\n",
    "\n",
    "$$\\mathrm{precision = \\frac{TP}{TP+FP}}$$\n",
    "\n",
    "* 再現率：実際に陽性であるデータの中で正しく陽性と予測できた割合 (感度sensitivity)\n",
    "\n",
    "$$\\mathrm{recall = \\frac{TP}{TP+FN}}$$\n",
    "\n",
    "* F1スコア： 適合率と再現率の調和平均（バランスを取る。どちらかが極端に高い・低い場合に有用）\n",
    "\n",
    "$$\\mathrm{F1score = \\frac{2\\times precision \\times recall}{precision + recall}}$$"
   ]
  },
  {
   "cell_type": "markdown",
   "metadata": {},
   "source": [
    "# one-hot 表現\n",
    "機械学習（深層学習）ではカテゴリー変数に対して\n",
    "1 = [1,0,0]\n",
    "2 = [0,1,0]\n",
    "3 = [0,0,1]\n",
    "のような変換を行う。\n",
    "手書き数字の分類（0~9）は10列の[0,1]のデータを作る。\n",
    "統計ソフトではダミー変数という。"
   ]
  },
  {
   "cell_type": "markdown",
   "metadata": {},
   "source": [
    "# その他のデータセット\n",
    "sklearn.datasets にはいくつかのサンプルデータが用意されている。\n",
    "\n",
    "* [diabetes](https://scikit-learn.org/stable/modules/generated/sklearn.datasets.load_diabetes.html)　糖尿病患者　回帰用\n",
    "* [breast cancer](https://scikit-learn.org/stable/modules/generated/sklearn.datasets.load_breast_cancer.html) 乳癌診断結果　分類用"
   ]
  },
  {
   "cell_type": "code",
   "execution_count": null,
   "metadata": {},
   "outputs": [],
   "source": [
    "from sklearn.datasets import load_diabetes\n",
    "from sklearn.datasets import load_breast_cancer\n",
    "import pandas as pd\n",
    "\n",
    "diabetes = load_diabetes()\n",
    "print(diabetes.DESCR)\n",
    "\n",
    "df = pd.DataFrame(diabetes.data, columns=diabetes.feature_names)\n",
    "df['target'] = diabetes.target\n",
    "df.head()"
   ]
  },
  {
   "cell_type": "code",
   "execution_count": null,
   "metadata": {},
   "outputs": [],
   "source": [
    "cancer = load_breast_cancer()\n",
    "print(cancer.DESCR)\n",
    "df = pd.DataFrame(cancer.data, columns=cancer.feature_names)\n",
    "df['target'] = cancer.target\n",
    "df.head()"
   ]
  },
  {
   "cell_type": "markdown",
   "metadata": {},
   "source": [
    "# 統計用ライブラリ\n",
    "* [statsmodels](https://www.statsmodels.org/stable/index.html) Rと似た形式にまとめられている。　\n",
    "* [scipy.stats](https://docs.scipy.org/doc/scipy/reference/stats.html) `linregress`という線形回帰用の関数があるが、単回帰しか扱えない。\n",
    "(`sklearn.linear_model.LinearRegression`は重回帰と単回帰を同じ方法で行う。)\n",
    "統計検定用の関数が各種用意されている。\n",
    "\n",
    "これらのライブラリは統計学的解析に使われる。情報が多過ぎるのでここでは紹介するにとどめる。"
   ]
  }
 ],
 "metadata": {
  "kernelspec": {
   "display_name": "base",
   "language": "python",
   "name": "python3"
  },
  "language_info": {
   "codemirror_mode": {
    "name": "ipython",
    "version": 3
   },
   "file_extension": ".py",
   "mimetype": "text/x-python",
   "name": "python",
   "nbconvert_exporter": "python",
   "pygments_lexer": "ipython3",
   "version": "3.12.3"
  }
 },
 "nbformat": 4,
 "nbformat_minor": 2
}
