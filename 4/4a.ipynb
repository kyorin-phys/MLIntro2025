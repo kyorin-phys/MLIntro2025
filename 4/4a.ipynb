{
 "cells": [
  {
   "cell_type": "markdown",
   "metadata": {},
   "source": [
    "# 画像分類の体験\n",
    "\n",
    "\n",
    "[teachable machine](https://teachablemachine.withgoogle.com/) で画像分類をコーディングなしで実行できる。\n",
    "\n",
    "2種類の画像データセットを用意する。\n",
    "\n",
    "例：犬と猫\n",
    "\n",
    "<img src='teachable.png' width='50%'>\n",
    "\n",
    "画像ファイルをクラスルームで共有するので、dogs, catsのフォルダの画像を全て選択してアップロードします。\n",
    "\n",
    "\n",
    "[旧医科歯科大のサイト](http://drive.google.com/file/d/1b7sTWITljlC3zKk1SvggMZx0rbyojoWY/view?usp=sharing)にcovid, normalの肺X線画像があるので使ってみる。\n",
    "ダウンロード(54MB)して展開する (images_TMDU.zip) images-> COVID-NORMAL にhealthy, covid19のフォルダがあり、116個の画像がある。\n",
    "\n",
    "\n",
    "* 収集(複数の種類の画像をアップロードしてラベルをつけておく)\n",
    "画像プロジェクト、標準の画像モデルを選び、Class1、Class2にファイルをアップロードする。\n",
    "\n",
    "* トレーニング（アップロードしたらそのまま実行できる。詳細でハイパーパラメータ（エポック、バッチサイズ、学習率）を変更できる）\n",
    "\n",
    "* プレビュー　webcam-> ファイルに変更すると、アップロードできるので、normal.jpg, covid.jpgをアップロードして\n",
    "  正しい出力が得られることを確認する。\n",
    "* 「エクスポートする」で学習モデルをダウンロードできる。TensorFlow, Kerasを選択。スニペットをコピーしてColabノートブックにペースト。\n",
    "teachableフォルダにkeras_model.h5, labels.txtと画像(normal.jpg, covid.jpg)を置けば読み込める。\n",
    "\n",
    "ただし、colabで実行しようすると、tensorflowのバージョンが違うのでそのままでは動かない。\n",
    "!pip install tensorflow==2.10.0\n",
    "を実行（時間がかかる）すると、セッションを再起動する必要があるが、アップロードしたファイルは残るので、そのまま実行できる。"
   ]
  }
 ],
 "metadata": {
  "kernelspec": {
   "display_name": "tf-gpu-env",
   "language": "python",
   "name": "python3"
  },
  "language_info": {
   "codemirror_mode": {
    "name": "ipython",
    "version": 3
   },
   "file_extension": ".py",
   "mimetype": "text/x-python",
   "name": "python",
   "nbconvert_exporter": "python",
   "pygments_lexer": "ipython3",
   "version": "3.10.13"
  }
 },
 "nbformat": 4,
 "nbformat_minor": 2
}
