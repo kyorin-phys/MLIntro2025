{
 "cells": [
  {
   "cell_type": "markdown",
   "metadata": {},
   "source": [
    "# 1-1 jupyter notebook (Colab notebook)"
   ]
  },
  {
   "cell_type": "markdown",
   "metadata": {},
   "source": [
    "[![Open In Colab](https://colab.research.google.com/assets/colab-badge.svg)](https://colab.research.google.com/github/kyorin-phys/MLIntro/blob/main/2025/1/1.ipynb)"
   ]
  },
  {
   "cell_type": "markdown",
   "metadata": {},
   "source": [
    "## Google Colab の開き方\n",
    "\n",
    "* [Google Drive](https://drive.google.com/drive/home) で「マイドライブ」を開き、ファイルを保存したいフォルダから「新規作成」する\n",
    "* [Google Colab](https://colab.research.google.com/) を開いて「新規作成」。別のフォルダ(Colab Notebooks)に保存される。 \n",
    "* **Open in Colab** アイコンから開く。\n",
    "\n",
    "保存場所が違うので迷子にならないように注意。\n",
    "「**Open in Colab**」で開いた場合は保存されない。（他人にファイルが勝手に編集されたら困る）\n",
    "「ドライブにコピー」で「Colab Notebooks」以下にコピーとして保存される。\n",
    "\n",
    "<img src='img/copytodrive.png' width=\"40%\"> \n",
    "\n",
    "基本的には自動保存されるが、タイミングによっては保存されないことがあるので、「ファイル」⇒「保存」してから閉じた方が安全。"
   ]
  },
  {
   "cell_type": "markdown",
   "metadata": {},
   "source": [
    "## セル\n",
    "\n",
    "ノートブックの四角の領域を**セル**という。セルには**コード**(pythonを実行できる)と**テキスト**(markdownセル)がある。\n",
    "[markdown](https://colab.research.google.com/notebooks/markdown_guide.ipynb) 簡易言語で数式を書くこともできるが、ここでは詳しく述べない。\n",
    "\n",
    "> 数式の例:\n",
    "$$\n",
    "f(x) = \\frac{1}{1 + e^{-x}}\n",
    "$$\n",
    "\n",
    "pythonコードはコードセルに書かないと実行できない。（コードセルには左に▶ボタンがある。）\n",
    "\n",
    "コードセルを追加して\n",
    "```\n",
    "print('Hello World!')\n",
    "```\n",
    "と入力して**Shift+Enter** または **▶ボタン** を押すと実行される。\n",
    "接続中となって最初だけしばらく時間がかかる。\n",
    "\n",
    "次のコードセルを実行してみる"
   ]
  },
  {
   "cell_type": "code",
   "execution_count": 2,
   "metadata": {},
   "outputs": [
    {
     "name": "stdout",
     "output_type": "stream",
     "text": [
      "Hello World!\n"
     ]
    }
   ],
   "source": [
    "print('Hello World!')"
   ]
  },
  {
   "cell_type": "markdown",
   "metadata": {},
   "source": [
    "コードセル、テキストセル共自分で追加できるので、メモや試したいところで追加すればよい。\n",
    "\n",
    "<img src='img/addcell.png' width='30%'>"
   ]
  },
  {
   "cell_type": "markdown",
   "metadata": {},
   "source": [
    "## 左端のメニュー\n",
    "* 目次:　セクションをクリックすると、ジャンプできる\n",
    "* 検索と置換:  ノートブック内の文字列を探して、一括置換もできる\n",
    "* コードスニペット: よく使う構文が登録されている\n",
    "* シークレット: APIを使うときにトークンを登録する\n",
    "* ファイル: アクセスできるファイル一覧を表示、ドライブをマウントする\n",
    "\n",
    "## スクラッチコードセル\n",
    "挿入 → スクラッチコードセル\n",
    "\n",
    "保存する必要がないコードを書き殴りする\n",
    "\n",
    "## 下端のメニュー\n",
    "* 変数\n",
    "* ターミナル\n",
    "* ★ Gemini（生成AI）に指示してコードを書かせることもできる\n",
    "\n",
    "<img src='img/gemini.png' width='30%'>"
   ]
  },
  {
   "cell_type": "markdown",
   "metadata": {},
   "source": [
    "## Google Drive のマウント\n",
    "\n",
    "Colab ノートブックとGoogle Driveは別のサービスであり、連携するためにはドライブをマウント（接続する）必要がある。ノートブックはGoogleDriveに保存されるが、ノートブックが入出力するファイルなどは、セッションが終わると消えてしまう。必要なデータはGoogleDriveにコピーする。\n",
    "\n",
    "画面左端のフォルダアイコンをクリックすると、ファイル一覧が見えるが、最初はsample_data しか表示されない。\n",
    "\n",
    "<img src='img/drive.png' width='30%'>\n",
    "\n",
    "自分のドライブを使うにはマウントをクリックする。このとき、認証などで許可を与える必要がある。\n",
    "\n",
    "<img src='img/mount.png' width='30%'>\n",
    "\n",
    "GoogleDriveがマウントされ、drive/MyDriveとして表示される。\n",
    "\n",
    "<img src='img/mydrive.png' width='30%'>\n",
    "\n",
    "pythonから使うには\n",
    "\n",
    "```python\n",
    "from google.colab import drive\n",
    "drive.mount('/content/drive')\n",
    "```\n",
    "とすることで同様にマウントされ、データを読み込む場合は\n",
    "ファイルのパスは\n",
    "/content/drive/MyDrive/1/ \n",
    "のように指定する必要がある。\n",
    "\n",
    "ファイルをアップロードしてフォルダ（セッションストレージ）に置くこともできるが、\n",
    "**セッションが終了すると、MyDrive以外にアップロードしたファイルは消失する。**\n",
    "保存したいデータがある場合はMyDrive以下に保存する。"
   ]
  },
  {
   "cell_type": "markdown",
   "metadata": {},
   "source": [
    "## GPU/TPU の使用*\n",
    "「ランタイム」から「ランタイムのタイプを変更」でT4 GPU, v5e-1 TPU から選択できる。機械学習で計算規模が大きい場合はGPU/TPUに変えることで10倍以上速くなる場合がある。この３つ以外は課金しないと使えない。また無料で使える時間は制限がある。\n",
    "\n",
    "<img src='./img/runtime.png' width='30%'>\n",
    "\n",
    "* 90分ルール: 何も操作せずに90分経つとリセットされる\n",
    "* 12時間ルール: インスタンスが起動してから12時間経つとリセットされる\n",
    "* GPUを使いすぎるとリセット\n",
    "* 規約違反するとアカウントを削除されることがある\n",
    "\n",
    "<img src='./img/runtimeout.png' width='30%'>"
   ]
  },
  {
   "cell_type": "markdown",
   "metadata": {},
   "source": [
    "## Gemini AIの活用\n",
    "[Gemini](https://gemini.google.com) は単体でも使えるが、Colabの組み込み機能として使うことができる。\n",
    "* 自動入力補完（コード補完）\n",
    "* コード生成\n",
    "* エラーのデバッグと修正"
   ]
  },
  {
   "cell_type": "markdown",
   "metadata": {},
   "source": [
    "自己学習の役に立つ活用法\n",
    "* Python初学者のために繰り返しと条件分岐の練習になるような問題を10個作ってください\n",
    "\n",
    "出力例：\n",
    "Python初学者のための繰り返しと条件分岐の練習問題10選\n",
    "\n",
    "以下の問題をColabのコードセルに書いて、実行してみましょう。\n",
    "\n",
    "1.  **偶数判定:** 与えられた整数が偶数か奇数かを判定し、結果を表示するプログラムを作成してください。\n",
    "2.  **年齢によるあいさつ:** ユーザーの年齢を入力してもらい、18歳以上なら「こんにちは、大人の方」、18歳未満なら「こんにちは、お子さん」と表示するプログラムを作成してください。\n",
    "3.  **数の大小比較:** 2つの整数を入力してもらい、どちらが大きいか、または等しいかを表示するプログラムを作成してください。\n",
    "4.  **1から10までの表示:** `for`ループを使って、1から10までの整数を順番に表示するプログラムを作成してください。\n",
    "5.  **偶数のみ表示:** `for`ループと条件分岐を使って、1から20までの偶数のみを表示するプログラムを作成してください。\n",
    "6.  **合計値の計算:** `while`ループを使って、1から5までの整数の合計値を計算し、結果を表示するプログラムを作成してください。\n",
    "7.  **ユーザー入力による繰り返し:** ユーザーが「終了」と入力するまで、何か入力を求め続け、入力された内容を表示するプログラムを作成してください。\n",
    "8.  **FizzBuzz問題:** 1から30までの数について、3の倍数なら「Fizz」、5の倍数なら「Buzz」、15の倍数なら「FizzBuzz」、それ以外ならその数を表示するプログラムを作成してください。\n",
    "9.  **最大値の探索:** 複数の整数がリストとして与えられた場合に、その中の最大値を見つけて表示するプログラムを作成してください。\n",
    "10. **素数判定:** 与えられた整数が素数かどうかを判定するプログラムを作成してください。（ヒント: 2からその数-1までの数で割り切れるか確認します。）\n"
   ]
  }
 ],
 "metadata": {
  "kernelspec": {
   "display_name": "base",
   "language": "python",
   "name": "python3"
  },
  "language_info": {
   "codemirror_mode": {
    "name": "ipython",
    "version": 3
   },
   "file_extension": ".py",
   "mimetype": "text/x-python",
   "name": "python",
   "nbconvert_exporter": "python",
   "pygments_lexer": "ipython3",
   "version": "3.12.3"
  }
 },
 "nbformat": 4,
 "nbformat_minor": 4
}
