{
 "cells": [
  {
   "cell_type": "markdown",
   "metadata": {},
   "source": [
    "# 練習問題\n",
    "[![Open In Colab](https://colab.research.google.com/assets/colab-badge.svg)](https://colab.research.google.com/github/kyorin-phys/MLIntro2025/blob/main/1/ex1.ipynb)"
   ]
  },
  {
   "cell_type": "markdown",
   "metadata": {},
   "source": [
    "出力は原則として```print```文で行うこと。"
   ]
  },
  {
   "cell_type": "markdown",
   "metadata": {},
   "source": [
    "1. 変数```x```に整数10を代入し、```x```の値を表示する"
   ]
  },
  {
   "cell_type": "code",
   "execution_count": 1,
   "metadata": {},
   "outputs": [],
   "source": [
    "#1"
   ]
  },
  {
   "cell_type": "markdown",
   "metadata": {},
   "source": [
    "2. 変数```y```に小数5.5を代入し、変数```y```のデータ型を表示させる"
   ]
  },
  {
   "cell_type": "code",
   "execution_count": 2,
   "metadata": {},
   "outputs": [],
   "source": [
    "#2"
   ]
  },
  {
   "cell_type": "markdown",
   "metadata": {},
   "source": [
    "3. 変数```name```に自分の名前を文字列として代入し、```Hello, [自分の名前]```という形式で出力する"
   ]
  },
  {
   "cell_type": "code",
   "execution_count": 3,
   "metadata": {},
   "outputs": [],
   "source": [
    "#3"
   ]
  },
  {
   "cell_type": "markdown",
   "metadata": {},
   "source": [
    "4. リスト名```fruits```として\"apple\",\"banana\",\"orange\"という文字列を要素としてもつリストを作成して、最初の要素を出力する"
   ]
  },
  {
   "cell_type": "code",
   "execution_count": 4,
   "metadata": {},
   "outputs": [],
   "source": [
    "#4"
   ]
  },
  {
   "cell_type": "markdown",
   "metadata": {},
   "source": [
    "5.  4で作成した```fruits```リストの2番目の要素を\"grape\"に変更して、リストを出力する"
   ]
  },
  {
   "cell_type": "code",
   "execution_count": 5,
   "metadata": {},
   "outputs": [],
   "source": [
    "#5"
   ]
  },
  {
   "cell_type": "markdown",
   "metadata": {},
   "source": [
    "6．タプル名```dimensions```として```(1920, 1080)```という2つの整数を持つタプルを作り、それぞれの要素を```width```, ```height```という変数に取り出して、width,heightの値を出力する。"
   ]
  },
  {
   "cell_type": "code",
   "execution_count": 6,
   "metadata": {},
   "outputs": [],
   "source": [
    "#6"
   ]
  },
  {
   "cell_type": "markdown",
   "metadata": {},
   "source": [
    "7. 辞書```person```に次の情報を格納する\n",
    "* 名前(name): Alice\n",
    "* 年齢(age): 20\n",
    "* 趣味(hobby): music\n",
    "\n",
    "その後、```person```辞書から年齢を取り出して出力する"
   ]
  },
  {
   "cell_type": "code",
   "execution_count": 7,
   "metadata": {},
   "outputs": [],
   "source": [
    "#7"
   ]
  },
  {
   "cell_type": "markdown",
   "metadata": {},
   "source": [
    "8. 変数```a```に文字列\"123\"を代入し、整数に変換して変数```b```に代入する。その後、```a```, ```b```のデータ型を出力する"
   ]
  },
  {
   "cell_type": "code",
   "execution_count": 8,
   "metadata": {},
   "outputs": [],
   "source": [
    "#8"
   ]
  },
  {
   "cell_type": "markdown",
   "metadata": {},
   "source": [
    "9. ```[10,20,30,40,50]```という要素を持つリスト```numbers```を作り、要素の合計を求めて出力する。(足し算ではなく、合計を求める関数`sum()`を使う)"
   ]
  },
  {
   "cell_type": "code",
   "execution_count": 9,
   "metadata": {},
   "outputs": [],
   "source": [
    "#9"
   ]
  },
  {
   "cell_type": "markdown",
   "metadata": {},
   "source": [
    "10.　変数```is_python_fun``` に```True```を代入し、次の条件に基づいてメッセージを表示する\n",
    "* ```is_python_fun``` がTrueなら\"Python is fun!\"と表示\n",
    "* ```False```なら\"Python is not fun...\"と表示"
   ]
  },
  {
   "cell_type": "code",
   "execution_count": 10,
   "metadata": {},
   "outputs": [],
   "source": [
    "#10"
   ]
  },
  {
   "cell_type": "markdown",
   "metadata": {},
   "source": [
    "11. score が与えられたときに、90以上ならS、80 ~ 89ならA、70 ~ 79ならB、60 ~ 69ならC、60未満ならDを返す関数hyoka(score)を作れ"
   ]
  },
  {
   "cell_type": "code",
   "execution_count": null,
   "metadata": {},
   "outputs": [],
   "source": [
    "# 11\n",
    "def hyoka(score):\n",
    "    # 条件分岐\n",
    "   \n",
    "for s in [59,60,61]:\n",
    "    print(s, hyoka(s))"
   ]
  },
  {
   "cell_type": "markdown",
   "metadata": {},
   "source": [
    "## fizz-buzz 問題\n",
    "1から30までの数字をループして、数字が3で割り切れるときFizz、5の倍数のときBuzz、15の倍数のときFizzBuzzと表示、それ以外の時そのまま表示せよ"
   ]
  },
  {
   "cell_type": "code",
   "execution_count": 11,
   "metadata": {},
   "outputs": [],
   "source": [
    "# 自分でやってみよう"
   ]
  },
  {
   "cell_type": "code",
   "execution_count": null,
   "metadata": {},
   "outputs": [],
   "source": [
    "# 解答例\n",
    "for i in range(1,31):\n",
    "    if i % 3 == 0:\n",
    "        if i % 5 == 0:\n",
    "            print('FizzBuzz',end=' ')\n",
    "        else:\n",
    "            print('Fizz', end=' ')\n",
    "    elif i % 5 ==0:\n",
    "        print('Buzz',end=' ')\n",
    "    else:\n",
    "        print(i, end=' ')\n",
    "# 別解\n",
    "print()\n",
    "for i in range(1, 31):\n",
    "    if i % 15 == 0: \n",
    "        print('FizzBuzz',end=' ')\n",
    "    elif i % 3 == 0: \n",
    "        print('Fizz', end=' ')\n",
    "    elif i % 5 == 0: \n",
    "        print('Buzz', end=' ')\n",
    "    else: \n",
    "        print(i, end=' ')"
   ]
  },
  {
   "cell_type": "markdown",
   "metadata": {},
   "source": [
    "## while loopの問題*\n",
    "d = 1から始め、dの値を半分にしてdの値が1e-3より小さくなったら終了するwhileループを作れ。繰り返しの回数iとdの値を出力すること"
   ]
  },
  {
   "cell_type": "code",
   "execution_count": null,
   "metadata": {},
   "outputs": [],
   "source": [
    "# 自分でやってみよう\n",
    "d = 1\n",
    "i = 0\n",
    "while True:\n"
   ]
  },
  {
   "cell_type": "code",
   "execution_count": null,
   "metadata": {},
   "outputs": [],
   "source": [
    "# 例\n",
    "d = 1\n",
    "i = 0\n",
    "while True:\n",
    "    if d < 1e-3: \n",
    "        print('converged')\n",
    "        break\n",
    "    d *= 0.5\n",
    "    i += 1\n",
    "    print(i, d)    "
   ]
  },
  {
   "cell_type": "markdown",
   "metadata": {},
   "source": [
    "## ニュートン法**\n",
    "方程式\n",
    "$$ x^2 - 2 = 0 $$\n",
    "をニュートン法で解く。\n",
    "$f(x)=x^2-2, f'(x)=2x$\n",
    "\n",
    "$x=x_i$ における接線の式は\n",
    "$$ y -f(x_i) = f'(x_i)(x-x_i) $$\n",
    "接線と$x$軸の交点を次の$x_{i+1}$とすると\n",
    "$$x_{i+1}=x_i-\\frac{f(x_i)}{f'(x_i)}$$\n",
    "適当な初項を与えて漸化式を計算する。\n",
    "$f(x)$の絶対値がeps=1e-6より小さくなるまで繰り返す。\n",
    "\n",
    "<img src='img/fig1.png' width='50%'>"
   ]
  },
  {
   "cell_type": "code",
   "execution_count": null,
   "metadata": {},
   "outputs": [],
   "source": [
    "import numpy as np\n",
    "import matplotlib.pyplot as plt\n",
    "\n",
    "# newton 法\n",
    "def f(x): \n",
    "    return x**2 - 2 \n",
    "def df(x): \n",
    "    return 2 * x\n",
    "\n",
    "xi = 3\n",
    "eps = 1e-7\n",
    "while True:\n",
    "    if abs(f(xi)) < eps: # 収束条件\n",
    "        print('converged')\n",
    "        break\n",
    "    if df(xi) == 0: \n",
    "        xi += eps #分母が0になるのを避ける \n",
    "    xi -= f(xi)/df(xi)\n",
    "    print(xi, f(xi))\n",
    "\n",
    "x = np.linspace(0, 3)\n",
    "plt.plot(x, f(x))\n",
    "plt.scatter(xi, f(xi))\n",
    "plt.grid()\n",
    "plt.show()"
   ]
  },
  {
   "cell_type": "markdown",
   "metadata": {},
   "source": [
    "f(x), df(x) だけ変えて解析的に解けない方程式を解いてみよ。グラフを書いて確かめる。\n",
    "\n",
    "例:　$f(x)=x - \\cos{x}$"
   ]
  },
  {
   "cell_type": "code",
   "execution_count": null,
   "metadata": {},
   "outputs": [],
   "source": []
  },
  {
   "cell_type": "markdown",
   "metadata": {},
   "source": [
    "## 関数の最適化（最小値を求めるアルゴリズム）**\n",
    "\n",
    "最小値を数値的に求める方法として「勾配降下法」が最もシンプルな方法である。\n",
    "\n",
    "坂道の下の方向（勾配と逆）に少しずつ動かしていく\n",
    "（増加しているときは負、減少しているときは正の方向に動かす）\n",
    "\n",
    "関数$ y = f(x)$について\n",
    "$$\n",
    "x_{i+1} = x_i - \\eta \\times f'(x_i)\n",
    "$$\n",
    "という漸化式を解いて、$f'(x_i)$ が十分小さくなるまで実行する。\n",
    "\n",
    "極小値が複数ある場合、真の最小値でないところで収束することがあるので、\n",
    "初期条件を複数用意するなど工夫が必要になる。\n",
    "\n",
    "$\\eta$: 学習率は移動ステップの大きさなので、大きすぎると無駄な動きをして収束しないし、小さすぎると時間がかかりすぎることになるので、\n",
    "問題に応じた適度な大きさを選ぶ必要がある。\n",
    "学習率のようなパラメータを「**ハイパーパラメータ**」という。\n",
    "\n",
    "機械学習ではこのようなアルゴリズムを使って、誤差を小さくする（正答率を上げる）\n",
    "\n",
    "2次関数なら極小値=最小値なので、困難はない。\n",
    "$f(x)=(x-2)^2+1, f'(x)=2(x-2)$\n",
    "\n",
    "4次関数で極小値が2個あると、初期値によっては最小値にならない場合がある。\n",
    "$f(x)=x^4/4-x^3/3-x^2, f'(x)=(x+1)x(x-2)$\n",
    "\n"
   ]
  },
  {
   "cell_type": "code",
   "execution_count": null,
   "metadata": {},
   "outputs": [],
   "source": [
    "# 最小値を求める (勾配降下法)\n",
    "import numpy as np\n",
    "import matplotlib.pyplot as plt\n",
    "\n",
    "#def f(x): return (x-2)**2+1\n",
    "def f(x): return x**4/4-x**3/3-x**2\n",
    "#def df(x): return 2*(x-2) # f'(x)\n",
    "def df(x): return (x+1)*x*(x-2)\n",
    "\n",
    "def minimize(eta, x0):\n",
    "    eps = 1e-3\n",
    "    xi = x0\n",
    "    i = 0\n",
    "    histx = []\n",
    "    histy = []\n",
    "    while True:\n",
    "        if i > 200: \n",
    "            print('not converged') # 収束が遅いor無限ループ\n",
    "            break\n",
    "        histx.append(xi)\n",
    "        histy.append(f(xi))\n",
    "        if abs(df(xi)) < eps: break # 勾配が小さくなったら終了\n",
    "        i += 1\n",
    "        xi -= eta * df(xi)/abs(f(xi)) # 勾配と逆方向に少し進む\n",
    "    print(eta, i, xi, f(xi), df(xi))\n",
    "    x = np.linspace(-2,3)\n",
    "    plt.plot(x, f(x))\n",
    "    plt.plot(histx, histy, '*-')\n",
    "    plt.title(f'eta={eta}, x0={x0}')\n",
    "    plt.show()\n",
    "\n",
    "eta, x0 = 0.1, 0.123\n",
    "minimize(eta, x0)"
   ]
  },
  {
   "cell_type": "code",
   "execution_count": null,
   "metadata": {},
   "outputs": [],
   "source": []
  }
 ],
 "metadata": {
  "kernelspec": {
   "display_name": "base",
   "language": "python",
   "name": "python3"
  },
  "language_info": {
   "codemirror_mode": {
    "name": "ipython",
    "version": 3
   },
   "file_extension": ".py",
   "mimetype": "text/x-python",
   "name": "python",
   "nbconvert_exporter": "python",
   "pygments_lexer": "ipython3",
   "version": "3.11.7"
  }
 },
 "nbformat": 4,
 "nbformat_minor": 2
}
