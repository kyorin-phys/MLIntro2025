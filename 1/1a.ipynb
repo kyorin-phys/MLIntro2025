{
 "cells": [
  {
   "cell_type": "markdown",
   "metadata": {},
   "source": [
    "# 1-2 Pythonの基礎\n",
    "\n",
    "[![Open In Colab](https://colab.research.google.com/assets/colab-badge.svg)](https://colab.research.google.com/github/kyorin-phys/MLIntro/blob/main/1/1a.ipynb)\n",
    "\n",
    "タイトルの末尾に＊がついているものはやや難しいか細かい話なので、最初は読み流してよい"
   ]
  },
  {
   "cell_type": "markdown",
   "metadata": {},
   "source": [
    "## Python言語の特徴\n",
    "\n",
    "* シンプルで読みやすい\n",
    "* ライブラリが豊富\n",
    "* クロスプラットフォーム(Windows, Mac, Linux)\n",
    "* オープンソース(無料、コード公開)\n",
    "* 動的型付け\n",
    "* 多用途"
   ]
  },
  {
   "cell_type": "markdown",
   "metadata": {},
   "source": [
    "## 変数とデータ型\n",
    "\n",
    "`変数名 = 値`　\n",
    "  で新しい変数ができて、その値に代入される。\n",
    "  すでに変数がある場合は値が変更される。\n",
    "\n",
    "* 数値(整数、浮動小数点数)\n",
    "\n",
    "  `a = 2`\n",
    "  \n",
    "  `b = 3.14`\n",
    "\n",
    "* 文字列\n",
    "  \n",
    "  `c = \"python\"`\n",
    "* 真偽値（True/False）\n",
    "  \n",
    "  `d = True`\n",
    "* リスト　複数の要素からなる変数\n",
    "  \n",
    "  `e = [1,2,3,4,5]`\n",
    "\n",
    "  `f = [[1,2,3],[4,5,6]]` #2次元配列　2行3列  \n",
    "\n",
    "* タプル (リストに似ているが、特定の要素だけを変更したり、追加することはできない)\n",
    "\n",
    "  `g = (1,2,3)`\n",
    "\n",
    "* 辞書 `key` と `value` を対応付ける配列\n",
    "  \n",
    "  `h = {\"biology\": 70, \"chemistry\": 68, \"physics\": 75}`\n",
    "\n",
    "type関数でその変数の型を調べることができる"
   ]
  },
  {
   "cell_type": "code",
   "execution_count": 6,
   "metadata": {},
   "outputs": [],
   "source": [
    "a = 2\n",
    "b = 3.14\n",
    "c = \"python\"\n",
    "d = True\n",
    "e = [1, 2, 3, 4, 5]\n",
    "f = [[1,2,3],[4,5,6]]\n",
    "g = (1, 2, 3)\n",
    "h = {\"biology\": 70, \"chemistry\": 68, \"physics\": 75}"
   ]
  },
  {
   "cell_type": "code",
   "execution_count": null,
   "metadata": {},
   "outputs": [],
   "source": [
    "# print(a, type(a)) のように各変数の値と型を確認せよ\n",
    "print(a, type(a))\n",
    "print(b, type(b))\n",
    "print(c, type(c))\n",
    "print(d, type(d))\n",
    "print(e, type(e))\n",
    "print(f, type(f))\n",
    "print(g, type(g))\n",
    "print(h, type(h))"
   ]
  },
  {
   "cell_type": "markdown",
   "metadata": {},
   "source": [
    "## 基本的な演算\n",
    "\n",
    "* 算術演算子 \n",
    "`+ , - , * , / , %(剰余), **(べき乗)`\n",
    "* 比較演算子\n",
    "`==（等しい） , != （等しくない）, > , < , >= , <=`\n",
    "* 論理演算子\n",
    "`and , or , not`"
   ]
  },
  {
   "cell_type": "code",
   "execution_count": null,
   "metadata": {},
   "outputs": [],
   "source": [
    "# 次の計算を実行してみよう\n",
    "(1 + 2) * 3 / 4"
   ]
  },
  {
   "cell_type": "code",
   "execution_count": null,
   "metadata": {},
   "outputs": [],
   "source": [
    "# 1 + 2 * 3 / 4  を計算したらどうなるか予想してから計算せよ\n"
   ]
  },
  {
   "cell_type": "code",
   "execution_count": null,
   "metadata": {},
   "outputs": [],
   "source": [
    "# 5 を 3 で割った余り \n",
    "5 % 3 == 2 "
   ]
  },
  {
   "cell_type": "code",
   "execution_count": null,
   "metadata": {},
   "outputs": [],
   "source": [
    "# 割り算で小数部分を切り捨てて整数にする //\n",
    "5 / 2, 5 // 2"
   ]
  },
  {
   "cell_type": "markdown",
   "metadata": {},
   "source": [
    "練習問題 $\\left(\\frac{2143}{22}\\right)^{\\frac{1}{4}}$ の値を計算せよ"
   ]
  },
  {
   "cell_type": "code",
   "execution_count": null,
   "metadata": {},
   "outputs": [],
   "source": [
    "# 計算式\n"
   ]
  },
  {
   "cell_type": "code",
   "execution_count": null,
   "metadata": {},
   "outputs": [],
   "source": [
    "# 論理演算　and, or, not\n",
    "a = True\n",
    "b = False\n",
    "print(\"not True =\", not a, \", not False =\", not b)\n",
    "\n",
    "print(\"True and False = \", a and b)\n",
    "print(\"True or False = \", a or b)"
   ]
  },
  {
   "cell_type": "markdown",
   "metadata": {},
   "source": [
    "\n",
    "## 制御構文\n",
    "\n",
    "基本的には前から順番に実行されるが、以下の制御構造で分岐したり、繰り返しを行う\n",
    "\n",
    "* 条件分岐 \n",
    "`if, else, elif`\n",
    "\n",
    "### if文\n",
    "```python\n",
    "if 条件:\n",
    "    処理1\n",
    "else:\n",
    "    処理2\n",
    "```\n",
    "条件が成立するときは処理1を実行し、それ以外の場合は処理2を実行する\n",
    "\n",
    "```python\n",
    "if 条件1:\n",
    "    処理1\n",
    "elif 条件2:\n",
    "    処理2\n",
    "else:\n",
    "    処理3\n",
    "```\n",
    "条件１が成立したら処理1\n",
    "\n",
    "条件２が成立したら処理2\n",
    "\n",
    "それ以外のとき処理3"
   ]
  },
  {
   "cell_type": "code",
   "execution_count": null,
   "metadata": {},
   "outputs": [],
   "source": [
    "# x の値を変えて実行してみよう\n",
    "x = input() # input()関数はユーザーの入力を受け取る。文字列を返すので整数に変換する\n",
    "print(x, type(x))\n",
    "x = int(x)\n",
    "if x % 3 == 0:\n",
    "  print(\"xは3で割り切れる\")\n",
    "elif x % 3 == 1:\n",
    "  print(\"xは3で割ると1余る\")\n",
    "else:\n",
    "  print(\"どちらでもない\")"
   ]
  },
  {
   "cell_type": "markdown",
   "metadata": {},
   "source": [
    "## 繰り返し（ループ）\n",
    "\n",
    "`for, while`\n",
    "\n",
    "\n",
    "\n"
   ]
  },
  {
   "cell_type": "markdown",
   "metadata": {},
   "source": [
    "### for ループ\n",
    "\n",
    "```python\n",
    "  for 変数 in 繰り返す要素:\n",
    "    処理\n",
    "```"
   ]
  },
  {
   "cell_type": "markdown",
   "metadata": {},
   "source": [
    "### range関数\n",
    "\n",
    "`range(start,stop[,step])`　start, step は省略可(デフォルトの値はstart=0,step=1), stopはexclusive(その値を含まない)\n",
    "\n",
    "range(10) -> 0,1,2,...,9　# 0から9までのリスト（正確にはrangeオブジェクト）\n",
    "\n",
    "range(1,10) -> 1,2,...,9　# 1から9までのリスト\n",
    "\n",
    "range(1,10,2) -> 1,3,5,7,9　# 1から9までの公差2の等差数列"
   ]
  },
  {
   "cell_type": "code",
   "execution_count": null,
   "metadata": {},
   "outputs": [],
   "source": [
    "print(range(3), list(range(3))) # range そのものはリストでないので、リストを作るにはlist()に入れる必要がある "
   ]
  },
  {
   "cell_type": "code",
   "execution_count": null,
   "metadata": {},
   "outputs": [],
   "source": [
    "# １から40までの整数のうち、3の倍数か3を含むものだけを出力せよ\n",
    "for i in range(1, 41):\n",
    "    if i % 3 == 0 or \"3\" in str(i):\n",
    "        print(i, end=\" \") # 末尾に改行ではなく空白を付ける"
   ]
  },
  {
   "cell_type": "markdown",
   "metadata": {},
   "source": [
    "### while ループ\n",
    "\n",
    "```python\n",
    "while 条件式:\n",
    "  処理\n",
    "```\n",
    "条件式が常に真だと無限ループになるので注意"
   ]
  },
  {
   "cell_type": "code",
   "execution_count": null,
   "metadata": {},
   "outputs": [],
   "source": [
    "i = 0\n",
    "while i < 10:\n",
    "  i += 1   # i = i + 1 の省略形\n",
    "  print(i, end=' ')\n",
    "# i=0 からスタートして i<10 である限り繰り返す"
   ]
  },
  {
   "cell_type": "markdown",
   "metadata": {},
   "source": [
    "ループから脱出するには **break** を使う。"
   ]
  },
  {
   "cell_type": "code",
   "execution_count": null,
   "metadata": {},
   "outputs": [],
   "source": [
    "i = 0\n",
    "while True: # 無限ループ\n",
    "  i += 1\n",
    "  if i > 10: \n",
    "    break\n",
    "  else:\n",
    "    print(i, end=' ')"
   ]
  },
  {
   "cell_type": "code",
   "execution_count": null,
   "metadata": {},
   "outputs": [],
   "source": [
    "for i in range(1, 11):\n",
    "    print(i, end=' ')"
   ]
  },
  {
   "cell_type": "markdown",
   "metadata": {},
   "source": [
    "繰り返し回数が事前にわかっている場合は`for`を使うのが簡潔。\n",
    "\n",
    "繰り返し回数が事前にわからず、ある条件を満たすまで繰り返すような場合に`while`が有効"
   ]
  },
  {
   "cell_type": "markdown",
   "metadata": {},
   "source": [
    "## 関数\n",
    "\n",
    "関数の定義と呼び出し\n",
    "\n",
    "```python\n",
    "def 関数名(引数):\n",
    "    return 返り値\n",
    "```\n",
    "引数は省略可。return文がなくてもよい。\n",
    "\n",
    "`関数名()` で実行される。\n"
   ]
  },
  {
   "cell_type": "code",
   "execution_count": null,
   "metadata": {},
   "outputs": [],
   "source": [
    "# 例1:　引数、返り値なし、printするだけ\n",
    "def hello():\n",
    "    print(\"Hello World!\")\n",
    "\n",
    "hello()"
   ]
  },
  {
   "cell_type": "code",
   "execution_count": null,
   "metadata": {},
   "outputs": [],
   "source": [
    "# 例2: 引数あり\n",
    "def hello2(name):\n",
    "    print(\"Hello \" + name)\n",
    "\n",
    "hello2(\"taro\")\n",
    "hello2(\"jiro\")"
   ]
  },
  {
   "cell_type": "code",
   "execution_count": null,
   "metadata": {},
   "outputs": [],
   "source": [
    "# 例3：返り値あり　計算結果を返す\n",
    "def mysum(a, b):\n",
    "    return a+b\n",
    "\n",
    "print(mysum(2, 3))"
   ]
  },
  {
   "cell_type": "markdown",
   "metadata": {},
   "source": [
    "パラメータを変えて同じ関数を別の条件で繰り返し実行したりすることができる。"
   ]
  },
  {
   "cell_type": "markdown",
   "metadata": {},
   "source": [
    "##  組み込み関数\n",
    "\n",
    "`print, len, type, ...`\n",
    "\n",
    "[組み込み関数一覧](https://docs.python.org/ja/3/library/functions.html)\n"
   ]
  },
  {
   "cell_type": "markdown",
   "metadata": {},
   "source": [
    "## リストに対する演算*\n",
    "* 要素の追加\n",
    "    * append() 要素を末尾に追加\n",
    "    * extend()　リストを末尾に追加\n",
    "    * insert()　指定した位置に挿入\n",
    "\n",
    "* 要素の削除\n",
    "    * remove()　指定した要素のうち最初のものを削除\n",
    "    * pop() 末尾の要素を削除\n",
    "    * clear()　空にする\n",
    "    \n",
    "* 要素の検索とカウント\n",
    "    * index()\n",
    "    * count()\n",
    "* ソートと逆順\n",
    "    * sort()\n",
    "    * reverse()"
   ]
  },
  {
   "cell_type": "code",
   "execution_count": null,
   "metadata": {},
   "outputs": [],
   "source": [
    "# 要素の追加\n",
    "a = [1, 2, 3]\n",
    "print(a)\n",
    "a.append(4) # 末尾に4を追加\n",
    "print(a)\n",
    "a.extend([5, 6]) # [5,6]というリストの要素を追加して拡張\n",
    "print(a)\n",
    "a.insert(1, 1.5) # 1番目に1.5を挿入\n",
    "print(a)"
   ]
  },
  {
   "cell_type": "code",
   "execution_count": null,
   "metadata": {},
   "outputs": [],
   "source": [
    "# 要素の削除\n",
    "a = [1, 2, 3, 1]\n",
    "print(a)\n",
    "a.remove(1) # 最初に現れる1を削除 \n",
    "print(a)\n",
    "b = a.pop() # 末尾の要素を取り出す\n",
    "print(b, a)\n",
    "a.clear() # 要素をすべて削除\n",
    "print(a)"
   ]
  },
  {
   "cell_type": "code",
   "execution_count": null,
   "metadata": {},
   "outputs": [],
   "source": [
    "# 要素の検索とカウント\n",
    "a = [1, 2, 2, 3, 3, 3]\n",
    "print(a)\n",
    "print(a.index(2)) # 要素2が最初に現れるインデックス\n",
    "print(a.count(2)) # 要素2が何個あるか数える"
   ]
  },
  {
   "cell_type": "code",
   "execution_count": null,
   "metadata": {},
   "outputs": [],
   "source": [
    "# ソートと逆順\n",
    "a = [2, 1, 3]\n",
    "print(a)\n",
    "print(sorted(a)) # aそのものは変化しない\n",
    "print(a)\n",
    "a.sort() # aの要素を並び替え\n",
    "print(a)\n",
    "a.reverse() # 逆順に並び替え\n",
    "print(a)"
   ]
  },
  {
   "cell_type": "markdown",
   "metadata": {},
   "source": [
    "## リスト内包表記*\n",
    "\n",
    "python独特の記法。ループより高速なのでよく使われる。\n",
    "\n",
    "```python\n",
    "[式 for 変数 in 繰り返し要素]\n",
    "```\n",
    "forループを1行に短縮したような形\n",
    "```python\n",
    "リスト名=[]\n",
    "for 変数 in 繰り返し要素:\n",
    "    リスト名.append(式)\n",
    "```"
   ]
  },
  {
   "cell_type": "code",
   "execution_count": null,
   "metadata": {},
   "outputs": [],
   "source": [
    "# 例１\n",
    "numbers = [1, 2, 3, 4, 5]\n",
    "even = [x*2 for x in numbers]\n",
    "print(even)\n",
    "\n",
    "# for 文で書くと\n",
    "even = [] # 空の配列を作る\n",
    "for i in range(1,6):\n",
    "  even.append(i*2) # 要素を追加する\n",
    "print(even)"
   ]
  },
  {
   "cell_type": "code",
   "execution_count": null,
   "metadata": {},
   "outputs": [],
   "source": [
    "# 例2\n",
    "# for ~ else\n",
    "numbers = [1, 2, 3, 4, 5]\n",
    "# 偶数ならそのまま、奇数なら0にする\n",
    "result = [x if x % 2 == 0 else 0 for x in numbers]\n",
    "print(result)  # 出力: [0, 2, 0, 4, 0]\n",
    "\n",
    "# 同じことをfor文で書くと\n",
    "result = []\n",
    "for x in numbers:\n",
    "  if x % 2 == 0:\n",
    "    result.append(x)\n",
    "  else:\n",
    "    result.append(0)\n",
    "print(result)\n",
    "# リスト内包表記でelifは使えない。"
   ]
  },
  {
   "cell_type": "markdown",
   "metadata": {},
   "source": [
    "## 3項演算子*\n",
    "```python\n",
    "真のときの値 if 条件 else 偽のときの値\n",
    "```\n",
    "リスト内包表記、3項演算子は簡潔に書けるが、慣れるまでは`for`文や`if`文が使えればよい。 "
   ]
  },
  {
   "cell_type": "code",
   "execution_count": null,
   "metadata": {},
   "outputs": [],
   "source": [
    "# 例\n",
    "a = 10\n",
    "b = 20\n",
    "max_value = a if a > b else b # a > b のときは a, それ以外のときは b を返す\n",
    "print(a, b, max_value)\n",
    "\n",
    "# if 文で書くと\n",
    "a = 20\n",
    "b = 10\n",
    "if a > b:\n",
    "  max_value = a\n",
    "else:\n",
    "  max_value = b\n",
    "print(a, b, max_value)\n",
    "# 4行分を1行に圧縮"
   ]
  },
  {
   "cell_type": "markdown",
   "metadata": {},
   "source": [
    "## 変数のスコープ(有効範囲)*\n",
    "\n",
    "関数の外側で定義された変数を**グローバル変数**、\n",
    "関数の内側で定義された変数を**ローカル変数**という。\n",
    "\n",
    "関数の内部でglobal宣言をおこなうと、関数の内部で変更すれば、\n",
    "外側での値も変更される。\n",
    "それ以外の場合は関数内で変更しても、関数の外側の値は変化しない。\n",
    "\n"
   ]
  },
  {
   "cell_type": "code",
   "execution_count": null,
   "metadata": {},
   "outputs": [],
   "source": [
    "def func():\n",
    "    #global x # コメントアウトするかしないかで値の変化を確かめる\n",
    "    x = 1\n",
    "    print(x)\n",
    "\n",
    "x = 2\n",
    "print(x)\n",
    "func()\n",
    "print(x)\n"
   ]
  },
  {
   "cell_type": "markdown",
   "metadata": {},
   "source": [
    "## 数値の丸め*\n",
    "* round() 四捨五入\n",
    "* numpy.around() 四捨五入\n",
    "* math.floor() 切り捨て \n",
    "* math.ceil()　切り上げ\n",
    "\n",
    "pythonの丸めは偶数への丸め（Round Half to Even）といって、「常識的な四捨五入」と異なる。\n",
    "```\n",
    "round(2.5) = 2 #???\n",
    "round(3.5) = 4 \n",
    "```\n",
    "\n",
    "常識的な四捨五入には\n",
    "`decimal` ライブラリを使う。\n",
    "\n",
    "```\n",
    "from decimal import Decimal, ROUND_HALF_UP\n",
    "num = Decimal('2.5')\n",
    "rounded = num.quantize(Decimal('1'), rounding=ROUND_HALF_UP)\n",
    "```"
   ]
  },
  {
   "cell_type": "code",
   "execution_count": null,
   "metadata": {},
   "outputs": [],
   "source": [
    "print(round(2.5), round(3.5))\n",
    "\n",
    "from decimal import Decimal, ROUND_HALF_UP\n",
    "num = Decimal(str(2.5))\n",
    "r = num.quantize(Decimal('1'), rounding=ROUND_HALF_UP) # 面倒すぎる\n",
    "print(num, r) "
   ]
  },
  {
   "cell_type": "code",
   "execution_count": null,
   "metadata": {},
   "outputs": [],
   "source": [
    "import math \n",
    "\n",
    "f = 2.5\n",
    "print(f, round(f))\n",
    "def myround(f):\n",
    "    if (f * 10) % 10 < 5: #小数第一位が5未満のときは切り捨て、5以上なら切り上げ\n",
    "        return math.floor(f)\n",
    "    else:\n",
    "        return math.ceil(f)\n",
    "myround(2.49), myround(2.50)\n",
    "def round1(f):\n",
    "    return Decimal(str(f)).quantize(Decimal('1'), rounding=ROUND_HALF_UP)\n",
    "print(round1(1.5), round1(2.5))"
   ]
  },
  {
   "cell_type": "code",
   "execution_count": null,
   "metadata": {},
   "outputs": [],
   "source": [
    "print(0.1 + 0.1 + 0.1 - 0.3) # = 0 ???\n",
    "print(1.30 + 1.20) # = 2.50 ???"
   ]
  },
  {
   "cell_type": "markdown",
   "metadata": {},
   "source": [
    "## 辞書の要素を調べる\n",
    "\n",
    "```\n",
    "d = {'A':'mitaka', 'B': 'musashino', 'C': 'chofu'}\n",
    "```\n",
    "という辞書があるとき、全ての要素にアクセスするには？"
   ]
  },
  {
   "cell_type": "code",
   "execution_count": null,
   "metadata": {},
   "outputs": [],
   "source": [
    "d = {'A':'mitaka', 'B': 'musashino', 'C': 'chofu'}\n",
    "print('keys:', d.keys())\n",
    "print('values:', d.values())\n",
    "print('items:', d.items())\n",
    "\n",
    "for key in d.keys():\n",
    "    print(key, d[key])"
   ]
  },
  {
   "cell_type": "code",
   "execution_count": null,
   "metadata": {},
   "outputs": [],
   "source": [
    "for key, value in d.items():\n",
    "    print(key, value)"
   ]
  }
 ],
 "metadata": {
  "kernelspec": {
   "display_name": "tf-gpu-env",
   "language": "python",
   "name": "python3"
  },
  "language_info": {
   "codemirror_mode": {
    "name": "ipython",
    "version": 3
   },
   "file_extension": ".py",
   "mimetype": "text/x-python",
   "name": "python",
   "nbconvert_exporter": "python",
   "pygments_lexer": "ipython3",
   "version": "3.10.8"
  }
 },
 "nbformat": 4,
 "nbformat_minor": 4
}
