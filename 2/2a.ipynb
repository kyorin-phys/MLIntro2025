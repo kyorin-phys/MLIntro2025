{
 "cells": [
  {
   "cell_type": "markdown",
   "id": "420ccf32",
   "metadata": {},
   "source": [
    "# Pandas と seabornの簡単な例\n",
    "\n",
    "\n",
    "[![Open In Colab](https://colab.research.google.com/assets/colab-badge.svg)](https://colab.research.google.com/github/kyorin-phys/MLIntro2025/blob/main/2/2a.ipynb)\n",
    "\n",
    "\n",
    "## Pandas \n",
    "\n",
    "[Pandas](https://pandas.pydata.org/) はExcelで扱うような表形式のデータを扱うライブラリ。 Panel Dataが由来であるが、タイトルにPython Data Analysis Libraryと表示される。\n",
    "\n",
    "import pandas as pd 5文字を短縮して2文字で呼び出すことが多い\n",
    "\n",
    "* Excel, CSVファイルをそのまま読み込める　pd.read_excel(), pd.read_csv()\n",
    "* DataFrame形式（表形式） df = pd.DataFrame(), Series形式\n",
    "* 統計処理もできる（平均、ピボットテーブル）df.groupby(), df.describe(), df.pivot_table()"
   ]
  },
  {
   "cell_type": "markdown",
   "id": "40d7c91c",
   "metadata": {},
   "source": [
    "サンプルデータ(p1.csv, p2.csv, iris.csv)を[ここ](https://github.com/kyorin-phys/MLIntro2025/tree/main/2/data)からダウンロードして、「ファイル」からアップロードする。"
   ]
  },
  {
   "cell_type": "code",
   "execution_count": null,
   "id": "2132bb31",
   "metadata": {},
   "outputs": [],
   "source": [
    "import pandas as pd \n",
    "import matplotlib.pyplot as plt\n",
    "\n",
    "#p1 = pd.read_csv('https://raw.githubusercontent.com/kyorin-phys/MLIntro2025/refs/heads/main/2/data/p1.csv')\n",
    "p1 = pd.read_csv('/content/p1.csv')\n",
    "p1 # データフレームはprint文を使わない方が表として見やすい"
   ]
  },
  {
   "cell_type": "markdown",
   "id": "4ba0bcbf",
   "metadata": {},
   "source": [
    "表のうちの特定のカラムを取り出すには df['カラム名'] とする"
   ]
  },
  {
   "cell_type": "code",
   "execution_count": null,
   "id": "902eba57",
   "metadata": {},
   "outputs": [],
   "source": [
    "p1['S']"
   ]
  },
  {
   "cell_type": "code",
   "execution_count": null,
   "id": "3f1dbf57",
   "metadata": {},
   "outputs": [],
   "source": [
    "plt.scatter(p1['S'], p1['v'])\n",
    "# x, y 軸のラベルやタイトルを追加する"
   ]
  },
  {
   "cell_type": "code",
   "execution_count": null,
   "id": "11925e25",
   "metadata": {},
   "outputs": [],
   "source": [
    "#p2 = pd.read_csv('https://raw.githubusercontent.com/kyorin-phys/MLIntro2025/refs/heads/main/2/data/p2.csv')\n",
    "p2 = pd.read_csv('/content/p2.csv')\n",
    "p2"
   ]
  },
  {
   "cell_type": "code",
   "execution_count": null,
   "id": "c03dbfed",
   "metadata": {},
   "outputs": [],
   "source": [
    "#!pip install japanize_matplotlib\n",
    "plt.scatter(p2['P[mmHg]'], p2['飽和度[%]'])\n",
    "# 軸ラベルやタイトルを追加する（日本語だとjapanize-matplotlibをインストールする必要がある）"
   ]
  },
  {
   "cell_type": "code",
   "execution_count": null,
   "id": "a4402d1f",
   "metadata": {},
   "outputs": [],
   "source": [
    "#iris = pd.read_csv('https://raw.githubusercontent.com/kyorin-phys/MLIntro2025/refs/heads/main/2/data/iris.csv')\n",
    "iris = pd.read_csv('/content/iris.csv')\n",
    "iris.head() # 最初の5行"
   ]
  },
  {
   "cell_type": "code",
   "execution_count": null,
   "id": "5a62a760",
   "metadata": {},
   "outputs": [],
   "source": [
    "iris.tail() # 最後の5行"
   ]
  },
  {
   "cell_type": "code",
   "execution_count": null,
   "id": "ed20310a",
   "metadata": {},
   "outputs": [],
   "source": [
    "plt.scatter(iris['PetalLength'], iris['PetalWidth'])"
   ]
  },
  {
   "cell_type": "markdown",
   "id": "f8d90204",
   "metadata": {},
   "source": [
    "層別に色分けしてプロットしたい(統計ソフトSPSS,EZRなどでできる)\n",
    "\n",
    "Geminiに「Nameによって層別してプロットしたい」と聞いてみる　\n",
    "\n",
    "生成されたコード（かなりややこしい）\n",
    "\n",
    "```{python}\n",
    "import matplotlib.pyplot as plt\n",
    "# plt.scatter(iris['SepalLength'], iris['SepalWidth'])\n",
    "\n",
    "# Name 列のユニークな値を取得\n",
    "names = iris['Name'].unique()\n",
    "\n",
    "# 各 Name ごとにデータを抽出してプロット\n",
    "for name in names:\n",
    "    subset = iris[iris['Name'] == name]\n",
    "    plt.scatter(subset['SepalLength'], subset['SepalWidth'], label=name)\n",
    "\n",
    "plt.xlabel('SepalLength')\n",
    "plt.ylabel('SepalWidth')\n",
    "plt.title('Iris Sepal Length vs Sepal Width by Name')\n",
    "plt.legend()\n",
    "plt.show()\n",
    "```"
   ]
  },
  {
   "cell_type": "code",
   "execution_count": null,
   "id": "d7fd6ace",
   "metadata": {},
   "outputs": [],
   "source": [
    "# geminiに指示してやらせるか、上のコードをコピーして実行"
   ]
  },
  {
   "cell_type": "markdown",
   "id": "5548cb31",
   "metadata": {},
   "source": [
    "# seaborn\n",
    "\n",
    "[seaborn](https://seaborn.pydata.org/) は matplotlib をベースに統計的グラフをきれいに描画することに特化したライブラリ\n",
    "\n",
    "[グラフの例](https://seaborn.pydata.org/examples/index.html)\n",
    "\n",
    "Geminiに「seabornで同様なグラフを作りたい」と聞いてみる\n",
    "\n",
    "生成されたコード（実質1行！）\n",
    "```\n",
    "import seaborn as sns\n",
    "import matplotlib.pyplot as plt\n",
    "\n",
    "# seabornを使って散布図を作成\n",
    "sns.scatterplot(data=iris, x='SepalLength', y='SepalWidth', hue='Name')\n",
    "\n",
    "plt.title('Iris Sepal Length vs Sepal Width by Name (Seaborn)')\n",
    "plt.show()\n",
    "```\n",
    "hue = 'Name' \n",
    "で色分けするカラムを指定している"
   ]
  },
  {
   "cell_type": "code",
   "execution_count": null,
   "id": "3c462f4f",
   "metadata": {},
   "outputs": [],
   "source": [
    "import seaborn as sns\n",
    "\n",
    "sns.scatterplot(data=iris, x='SepalLength', y='SepalWidth', hue='Name')"
   ]
  },
  {
   "cell_type": "code",
   "execution_count": null,
   "id": "58d9ba63",
   "metadata": {},
   "outputs": [],
   "source": [
    "# 散布図行列（全ての特徴量の組み合わせを縦、横に選んだグラフ）\n",
    "sns.pairplot(iris, hue='Name')"
   ]
  },
  {
   "cell_type": "markdown",
   "id": "cb9818da",
   "metadata": {},
   "source": [
    "## ライブラリとAPI（Application　Programming Interface）\n",
    "\n",
    "* ライブラリは便利な機能の集合体\n",
    "* APIはライブラリの機能を使うための窓口や説明書\n",
    "\n",
    "APIは「何を渡せば（入力）、何が帰ってくるか（出力）」を定める\n",
    "\n",
    "## ライブラリ利用のステップ\n",
    "\n",
    "ライブラリを使うとは、「目的のAPIを見つけ、仕様通りに呼び出すこと」\n",
    "\n",
    "* 目的のAPIをドキュメントで探す\n",
    "  \n",
    "  実現したいことに対応する関数やメソッド（API）を特定\n",
    "\n",
    "* APIの使用（Input/Output）を確認する\n",
    "  \n",
    "  そのAPIが求めるデータの形式、パラメータ、と戻り値の型や内容を調べる\n",
    "\n",
    "* パラメータを指定して呼び出す  \n",
    "\n",
    "ライブラリの公式サイトには機能を利用するための公式情報が用意されている\n",
    "* Tutorial (入門用コード)\n",
    "* Example/Gallery (このライブラリで何ができるか) \n",
    "* Reference (APIの詳細な説明)\n",
    "\n",
    "上記の公式ドキュメントを調べるのが最も正確ですが、理解を深めるためには、まとめサイトや **AI（例：ChatGPT、GitHub Copilotなど）に「このライブラリの〇〇というAPIの使い方を教えて」** と聞いて、具体的なコード例を生成させる方法も非常に有効です。"
   ]
  },
  {
   "cell_type": "markdown",
   "id": "3123dea5",
   "metadata": {},
   "source": [
    "次回はpandas, seabornなどのライブラリを使って、回帰・分類の問題を扱います"
   ]
  }
 ],
 "metadata": {
  "kernelspec": {
   "display_name": "base",
   "language": "python",
   "name": "python3"
  },
  "language_info": {
   "codemirror_mode": {
    "name": "ipython",
    "version": 3
   },
   "file_extension": ".py",
   "mimetype": "text/x-python",
   "name": "python",
   "nbconvert_exporter": "python",
   "pygments_lexer": "ipython3",
   "version": "3.12.3"
  }
 },
 "nbformat": 4,
 "nbformat_minor": 5
}
