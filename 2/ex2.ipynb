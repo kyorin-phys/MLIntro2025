{
 "cells": [
  {
   "cell_type": "markdown",
   "id": "1972440d",
   "metadata": {},
   "source": [
    "# 第2回の練習問題\n",
    "[![Open In Colab](https://colab.research.google.com/assets/colab-badge.svg)](https://colab.research.google.com/github/kyorin-phys/MLIntro2025/blob/main/2/ex2.ipynb)\n"
   ]
  },
  {
   "cell_type": "code",
   "execution_count": null,
   "id": "d8685c6e",
   "metadata": {},
   "outputs": [],
   "source": [
    "# 必要なライブラリの読み込み\n",
    "!pip install japanize_matplotlib\n",
    "import numpy as np\n",
    "import matplotlib.pyplot as plt\n",
    "import japanize_matplotlib\n",
    "from PIL import Image"
   ]
  },
  {
   "cell_type": "code",
   "execution_count": null,
   "id": "90830b02",
   "metadata": {},
   "outputs": [],
   "source": [
    "# matplotlib の練習問題\n",
    "# 問題1: x軸を0から10まで、y軸をその2倍の値として、散布図を作成し、x軸ラベルを「X値」、y軸ラベルを「Y値」、タイトルを「散布図の例」として表示してください。\n",
    "\n",
    "x = np.arange(0, 11)\n",
    "y = x * 2\n",
    "\n",
    "# 以下にコードを記述\n"
   ]
  },
  {
   "cell_type": "code",
   "execution_count": null,
   "id": "e64c0977",
   "metadata": {},
   "outputs": [],
   "source": [
    "# 問題2: x軸を0から2πまで50等分した値、y軸をsin(x)の値として、線グラフを作成し、グリッドを表示してください。\n",
    "\n",
    "x = np.linspace(0, 2 * np.pi, 50)\n",
    "y = np.sin(x)\n",
    "\n",
    "# 以下にコードを記述\n"
   ]
  },
  {
   "cell_type": "code",
   "execution_count": null,
   "id": "08340d0b",
   "metadata": {},
   "outputs": [],
   "source": [
    "# numpy の練習問題\n",
    "# 問題3: 1から10までの偶数のみを含むnumpy配列を作成してください。\n",
    "\n",
    "# 以下にコードを記述\n"
   ]
  },
  {
   "cell_type": "code",
   "execution_count": null,
   "id": "cd599442",
   "metadata": {},
   "outputs": [],
   "source": [
    "# 問題4: 3x3のゼロ行列を作成し、中央の要素を1に変更してください。\n",
    "\n",
    "# 以下にコードを記述\n",
    "# numpy.zeros() という関数を調べてください。\n",
    "# forループやリスト内包表記で配列を作った後、numpy配列にして、reshapeで行列に変換することもできるが、\n",
    "# zerosが圧倒的に簡単\n"
   ]
  },
  {
   "cell_type": "code",
   "execution_count": null,
   "id": "6ea44f88",
   "metadata": {},
   "outputs": [],
   "source": [
    "# 画像の表示・操作の練習問題\n",
    "# 問題5: 以下のURLからダウンロードして'cat.jpg'と名前を変更した画像を読み込み、表示してください。\n",
    "# https://pbs.twimg.com/media/GESN0G3bAAAkPTh?format=jpg\n",
    "\n",
    "# 以下にコードを記述\n"
   ]
  },
  {
   "cell_type": "code",
   "execution_count": null,
   "id": "0e02e87b",
   "metadata": {},
   "outputs": [],
   "source": [
    "# 問題6: ダウンロードした'cat.jpg'画像を読み込み、元のサイズの半分にリサイズして表示してください。\n",
    "\n",
    "# 以下にコードを記述\n"
   ]
  },
  {
   "cell_type": "code",
   "execution_count": null,
   "id": "ffc16584",
   "metadata": {},
   "outputs": [],
   "source": [
    "#これまでに使用したデータ（p1.csv, p2.csv, iris.csv）とライブラリ（pandas, matplotlib, seaborn）を使います。\n",
    "#これらの問題を解くことで、pandas でのデータ操作と seaborn を使った可視化の理解を深めることができます。"
   ]
  },
  {
   "cell_type": "code",
   "execution_count": null,
   "id": "2f92cdb8",
   "metadata": {},
   "outputs": [],
   "source": [
    "# 問題7: p1.csv のデータ操作\n",
    "# p1 データフレームの最初の3行を表示してください。\n",
    "# p1 データフレームの 'S' カラムの平均値を計算して表示してください。\n",
    "# データフレーム名.mean()　で計算できる\n",
    "# 以下にコードを記述"
   ]
  },
  {
   "cell_type": "code",
   "execution_count": null,
   "id": "bf106cc5",
   "metadata": {},
   "outputs": [],
   "source": [
    "# 問題8: p2.csv のデータ可視化:\n",
    "# p2 データフレームの 'P[mmHg]' と '飽和度[%]' の散布図を、軸ラベルとタイトル付きで作成してください。\n",
    "# 以下にコードを記述"
   ]
  },
  {
   "cell_type": "code",
   "execution_count": null,
   "id": "c4e724b0",
   "metadata": {},
   "outputs": [],
   "source": [
    "# 問題9:  iris.csv のデータ操作と可視化:\n",
    "# iris データフレームから、'Species' が 'setosa' の行だけを抽出して新しいデータフレームを作成し、その最初の5行を表示してください。\n",
    "# 抽出した 'setosa' のデータフレームを使って、'SepalLength' と 'SepalWidth' の散布図を作成してください。\n",
    "# iris データフレーム全体を使って、'PetalLength' と 'PetalWidth' の散布図を、'Species' ごとに色分けして seaborn で作成してください。\n",
    "# 以下にコードを記述"
   ]
  }
 ],
 "metadata": {
  "kernelspec": {
   "display_name": "base",
   "language": "python",
   "name": "python3"
  },
  "language_info": {
   "codemirror_mode": {
    "name": "ipython",
    "version": 3
   },
   "file_extension": ".py",
   "mimetype": "text/x-python",
   "name": "python",
   "nbconvert_exporter": "python",
   "pygments_lexer": "ipython3",
   "version": "3.12.3"
  }
 },
 "nbformat": 4,
 "nbformat_minor": 5
}
