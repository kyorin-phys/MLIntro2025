{
 "cells": [
  {
   "cell_type": "markdown",
   "metadata": {},
   "source": [
    "# グラフ、画像の表示\n",
    "\n",
    "[![Open In Colab](https://colab.research.google.com/assets/colab-badge.svg)](https://colab.research.google.com/github/kyorin-phys/MLIntro/blob/main/2/2.ipynb)\n",
    "\n",
    "## ライブラリ\n",
    "\n",
    "機能（関数）を拡張する\n",
    "* matplotlib (グラフ)\n",
    "* numpy （数値演算、行列演算）\n",
    "* pandas （テーブルデータ、統計）次回\n",
    "\n",
    "```\n",
    "import ライブラリ名\n",
    "import ライブラリ名　as 短縮名\n",
    "from ライブラリ名　import 関数名\n",
    "```"
   ]
  },
  {
   "cell_type": "markdown",
   "metadata": {},
   "source": [
    "## matplotlib ライブラリ\n",
    "* [matplotlib](https://matplotlib.org/)\n",
    "\n",
    "[グラフの種類一覧](https://matplotlib.org/stable/plot_types/index.html)"
   ]
  },
  {
   "cell_type": "code",
   "execution_count": null,
   "metadata": {},
   "outputs": [],
   "source": [
    "import matplotlib.pyplot as plt\n",
    "x = [1,2,3,4,5]\n",
    "y = [3,6,9,12,15]\n",
    "#plt.plot(x, y) # 線を引く\n",
    "plt.scatter(x, y) # 散布図（点のみ）\n",
    "plt.show()\n",
    "# import matplotlib  だけだったら\n",
    "# matplotlib.pyplot.scatter(x, y) のように長くなってしまう"
   ]
  },
  {
   "cell_type": "code",
   "execution_count": null,
   "metadata": {},
   "outputs": [],
   "source": [
    "# 軸ラベルやタイトル、目盛線、凡例の追加\n",
    "plt.plot(x, y, label='y')\n",
    "#plt.xlabel('x')\n",
    "#plt.ylabel('y')\n",
    "#plt.title('title')\n",
    "#plt.grid()\n",
    "#plt.legend()\n",
    "plt.show()"
   ]
  },
  {
   "cell_type": "code",
   "execution_count": null,
   "metadata": {},
   "outputs": [],
   "source": [
    "# 日本語は文字化けするので、japanize_matplotlib をインポートする(colabでは要インストール)\n",
    "!pip install japanize_matplotlib"
   ]
  },
  {
   "cell_type": "code",
   "execution_count": null,
   "metadata": {},
   "outputs": [],
   "source": [
    "import japanize_matplotlib\n",
    "plt.plot(x, y, label='y')\n",
    "plt.xlabel('x軸')\n",
    "plt.ylabel('y軸')\n",
    "plt.title('タイトル')\n",
    "plt.legend()\n",
    "plt.show()"
   ]
  },
  {
   "cell_type": "markdown",
   "metadata": {},
   "source": [
    "## numpy: numerical python"
   ]
  },
  {
   "cell_type": "markdown",
   "metadata": {},
   "source": [
    "`import numpy as np`\n",
    "\n",
    "`numpy` を `np` という短縮名で読み込む。\n",
    "三角関数、指数関数などの数学関数はインポートしないと使えない。\n",
    "\n",
    "`math` というライブラリもあるが、機械学習では多次元の配列を使うので `numpy` を使う。\n",
    "\n",
    "`from numpy import pi`\n",
    "と宣言すると、`pi`が使える。\n",
    "`import numpy as np`\n",
    "だけ宣言した場合は\n",
    "`np.pi` とする必要がある。"
   ]
  },
  {
   "cell_type": "code",
   "execution_count": null,
   "metadata": {},
   "outputs": [],
   "source": [
    "import numpy as np\n",
    "# print(pi) # エラーになる\n",
    "print(np.pi)\n",
    "from numpy import pi\n",
    "print(pi)"
   ]
  },
  {
   "cell_type": "markdown",
   "metadata": {},
   "source": [
    "## numpy 配列\n",
    "\n",
    "`numpy.array()`\n",
    "\n",
    "リストの場合は要素ごとに演算が必要だが、numpy配列ではまとめて演算できる。\n",
    "\n",
    "例：すべての値を2倍する"
   ]
  },
  {
   "cell_type": "markdown",
   "metadata": {},
   "source": [
    "### リストの場合"
   ]
  },
  {
   "cell_type": "code",
   "execution_count": null,
   "metadata": {},
   "outputs": [],
   "source": [
    "# 2倍するつもりが、リストをつなぐ結果に\n",
    "a = [1, 2, 3, 4, 5]\n",
    "print(a * 2)\n",
    "print(a + a)"
   ]
  },
  {
   "cell_type": "code",
   "execution_count": null,
   "metadata": {},
   "outputs": [],
   "source": [
    "# 全ての要素を2倍する\n",
    "a = [1, 2, 3, 4, 5]\n",
    "a = [x*2 for x in a]  #リスト内包表記\n",
    "print(a)\n",
    "\n",
    "# for文は遅いのでなるべく避けた方がよい\n",
    "a = [1, 2, 3, 4, 5]\n",
    "for i in range(len(a)):\n",
    "    a[i] *= 2  # i番目の要素を2倍\n",
    "print(a)"
   ]
  },
  {
   "cell_type": "markdown",
   "metadata": {},
   "source": [
    "### numpyの場合"
   ]
  },
  {
   "cell_type": "code",
   "execution_count": null,
   "metadata": {},
   "outputs": [],
   "source": [
    "# ベクトルの定数倍と同様にすべての要素が2倍になる\n",
    "b = np.array([1, 2, 3, 4, 5])\n",
    "print(b)\n",
    "print(b * 2)\n",
    "print(type(b))"
   ]
  },
  {
   "cell_type": "code",
   "execution_count": null,
   "metadata": {},
   "outputs": [],
   "source": [
    "a[a<5]"
   ]
  },
  {
   "cell_type": "code",
   "execution_count": null,
   "metadata": {},
   "outputs": [],
   "source": [
    "# 全ての要素に2を足す\n",
    "a = [1, 2, 3, 4, 5]\n",
    "#print(a + 2) # リストと数値は足せない\n",
    "#print([1,2,3,4,5]+[2,2,2,2,2])\n",
    "#for i in range(5):\n",
    "#    a[i] += 2\n",
    "#print(a)\n",
    "#a = [x+2 for x in a] # リスト内包表記   \n",
    "#print(a)\n",
    "# broadcast 2*np.oneslike(b) \n",
    "print(b + 2)\n",
    "print(np.ones_like(b))\n",
    "#print(b + 2*np.ones_like(b))"
   ]
  },
  {
   "cell_type": "code",
   "execution_count": null,
   "metadata": {},
   "outputs": [],
   "source": [
    "# 積は同じインデックスの要素同士を掛ける\n",
    "a = [1, 2, 3, 4, 5]\n",
    "print(a * b) # これは可能\n",
    "print(b * b)\n",
    "c = np.array([1,2,3])\n",
    "#print(b*c) # 長さの違う配列の積は計算できないのでエラー"
   ]
  },
  {
   "cell_type": "code",
   "execution_count": null,
   "metadata": {},
   "outputs": [],
   "source": [
    "## ベクトルの内積\n",
    "a = np.array([1,2])\n",
    "b = np.array([2,-1])\n",
    "print(np.dot(a, b)) # 1*2 + 2*(-1)"
   ]
  },
  {
   "cell_type": "markdown",
   "metadata": {},
   "source": [
    "## 行列 多次元配列\n",
    "\n",
    "* 1次元の配列: ベクトル(vector)\n",
    "* 2次元の配列: 行列(matrix)\n",
    "* 3次元以上の配列: テンソル(tensor)\n",
    "\n",
    "例:モノクロ画像は2次元のデータからなる。\n",
    "カラー画像は色情報がRGBの3チャンネルを持つ2次元データを組み合わせたもの。\n",
    "\n",
    "CTなどの画像データは3次元テンソル (x,y,z)座標に対するCT値の組。\n",
    "スライスで2次元の画像に切り出したものを画像として見る。"
   ]
  },
  {
   "cell_type": "code",
   "execution_count": null,
   "metadata": {},
   "outputs": [],
   "source": [
    "# matplotlib.imshow で画像を表示させる\n",
    "import matplotlib.pyplot as plt\n",
    "\n",
    "# 2x2のモノクロ画像（グレースケール）を作成\n",
    "monochrome_image = [[0, 127], [255, 0]]\n",
    "#monochrome_image = np.array([[0, 127], [255, 0]])\n",
    "# 0　真っ黒、255　真っ白\n",
    "# モノクロ画像を表示\n",
    "plt.imshow(monochrome_image, cmap='gray')\n",
    "plt.axis('off')\n",
    "plt.show()"
   ]
  },
  {
   "cell_type": "code",
   "execution_count": null,
   "metadata": {},
   "outputs": [],
   "source": [
    "# 2x2のカラー画像（RGB）を作成\n",
    "color_image = [[[255, 0, 0], [0, 255, 0]],\n",
    "               [[0, 0, 255], [255, 255, 0]]]\n",
    "#color_image = np.array([[[255, 0, 0], [0, 255, 0]],\n",
    "#               [[0, 0, 255], [255, 255, 0]]])\n",
    "# [R,G,B]: [255,0,0] は赤、[0,255,0]は緑、[0,0,255]は青、[255,255,0]は黄\n",
    "# [[赤,緑],[青,黄]] のように色情報を要素に持つ2x2の画像になっている　(2x2x3：3次元テンソル）\n",
    "# カラー画像を表示\n",
    "plt.imshow(color_image)\n",
    "plt.axis('off')\n",
    "plt.show()"
   ]
  },
  {
   "cell_type": "code",
   "execution_count": null,
   "metadata": {},
   "outputs": [],
   "source": [
    "# グレースケール\n",
    "gradient_image = np.linspace(0, 255, 10, dtype=np.uint8).reshape(1, 10) # ベクトルを1x10の行列に変換\n",
    "# linspace: linear space 区間を等間隔に分割した等差数列を返す\n",
    "# linspace(start, stop, num)\n",
    "print(gradient_image)\n",
    "plt.imshow(gradient_image, 'gray')\n",
    "plt.axis('off')\n",
    "plt.show()"
   ]
  },
  {
   "cell_type": "markdown",
   "metadata": {},
   "source": [
    "## 画像の読み込みと表示"
   ]
  },
  {
   "cell_type": "code",
   "execution_count": null,
   "metadata": {},
   "outputs": [],
   "source": [
    "# 以下のURLから画像を'cat.jpg'としてダウンロードして「ファイル」からアップロードする\n",
    "# https://pbs.twimg.com/media/GESN0G3bAAAkPTh?format=jpg\n",
    "img = plt.imread('/content/cat.jpg')\n",
    "#img = plt.imread('img/cat.jpg')\n",
    "plt.imshow(img)\n",
    "plt.axis('off')\n",
    "plt.show()"
   ]
  },
  {
   "cell_type": "markdown",
   "metadata": {},
   "source": [
    "画像を扱うライブラリは他にも多い。\n",
    "代表的なもの\n",
    "* [Pillow](https://pypi.org/project/pillow/)\n",
    "\n",
    "画像のトリミング、リサイズなど画像処理の機能がある\n",
    "\n",
    "```\n",
    "from PIL import Image\n",
    "img = Image.open('img/cat.jpg')\n",
    "img.show()\n",
    "```"
   ]
  },
  {
   "cell_type": "code",
   "execution_count": null,
   "metadata": {},
   "outputs": [],
   "source": [
    "from PIL import Image\n",
    "img = Image.open('img/cat.jpg', )\n",
    "h, w = img.size # サイズの取得\n",
    "print(h, w)\n",
    "newimg = img.resize((h//50, w//50)) #縦横のピクセル数を1/50にする\n",
    "plt.imshow(newimg)"
   ]
  },
  {
   "cell_type": "code",
   "execution_count": null,
   "metadata": {},
   "outputs": [],
   "source": [
    "# dir(img) # imgが持つ属性の一覧"
   ]
  },
  {
   "cell_type": "markdown",
   "metadata": {},
   "source": [
    "* [opencv](https://pypi.org/project/opencv-python/)\n",
    "\n",
    "動画解析（カメラから読み込み）、顔検出などの機能もある\n",
    "\n",
    "copilotに命令して、WEBカメラから本のバーコード（ISBN）を読み取り、アマゾンの書籍リンクを作って、蔵書リストを作るコードをコピペだけで作れた。（プロンプトエンジニアリング）"
   ]
  },
  {
   "cell_type": "markdown",
   "metadata": {},
   "source": [
    "## numpy の関数\n",
    "import numpy as np\n",
    "\n",
    "* np.linspace(a,b,n) 等差数列を作る（要素の数を指定する）\n",
    "* np.arange(a,b,dx) 等差数列を作る（幅を指定する）\n",
    "* np.reshape(A, (h, w)) numpy配列Aの形状を縦h、横wに変更（変更前と変更後で要素数は一致）\n",
    "\n",
    "**配列の形状を調べたり、形を変更することは機械学習のコードを動かすうえで必ず必要になる。**"
   ]
  },
  {
   "cell_type": "code",
   "execution_count": null,
   "metadata": {},
   "outputs": [],
   "source": [
    "A = np.linspace(0, 10, 10) # 0から10までの区間を(10-1)等分して要素10個のnumpy配列を作る\n",
    "print(A.shape)\n",
    "print(A)\n",
    "print(\"-\" * 80)\n",
    "B  = np.reshape(A, (2,5)) # 2行5列に変換\n",
    "print(B)\n",
    "print(\"-\" * 80)\n",
    "C = np.reshape(A, (5,2)) # 5行2列に変換\n",
    "print(C)"
   ]
  }
 ],
 "metadata": {
  "kernelspec": {
   "display_name": "base",
   "language": "python",
   "name": "python3"
  },
  "language_info": {
   "codemirror_mode": {
    "name": "ipython",
    "version": 3
   },
   "file_extension": ".py",
   "mimetype": "text/x-python",
   "name": "python",
   "nbconvert_exporter": "python",
   "pygments_lexer": "ipython3",
   "version": "3.12.3"
  }
 },
 "nbformat": 4,
 "nbformat_minor": 2
}
